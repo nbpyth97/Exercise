{
 "cells": [
  {
   "cell_type": "code",
   "execution_count": 101,
   "id": "f8c52b9c",
   "metadata": {},
   "outputs": [],
   "source": [
    "import pandas as pd\n",
    "import seaborn as sns\n",
    "import plotly.express as px\n",
    "import matplotlib.pyplot as plt\n",
    "import numpy as np\n",
    "from sklearn.linear_model import LinearRegression\n",
    "from sklearn import preprocessing\n",
    "from sklearn.preprocessing import StandardScaler\n",
    "import datetime as dt\n",
    "import warnings"
   ]
  },
  {
   "cell_type": "code",
   "execution_count": 75,
   "id": "0bae5407",
   "metadata": {},
   "outputs": [
    {
     "data": {
      "text/html": [
       "<div>\n",
       "<style scoped>\n",
       "    .dataframe tbody tr th:only-of-type {\n",
       "        vertical-align: middle;\n",
       "    }\n",
       "\n",
       "    .dataframe tbody tr th {\n",
       "        vertical-align: top;\n",
       "    }\n",
       "\n",
       "    .dataframe thead th {\n",
       "        text-align: right;\n",
       "    }\n",
       "</style>\n",
       "<table border=\"1\" class=\"dataframe\">\n",
       "  <thead>\n",
       "    <tr style=\"text-align: right;\">\n",
       "      <th></th>\n",
       "      <th>Unnamed: 0</th>\n",
       "      <th>Acquisition_Time</th>\n",
       "      <th>Hospital</th>\n",
       "      <th>Urgency_Type</th>\n",
       "      <th>Service</th>\n",
       "      <th>Emergency_Stage</th>\n",
       "      <th>Waiting_Time</th>\n",
       "      <th>People_Waiting</th>\n",
       "      <th>H_Name</th>\n",
       "    </tr>\n",
       "  </thead>\n",
       "  <tbody>\n",
       "    <tr>\n",
       "      <th>0</th>\n",
       "      <td>0</td>\n",
       "      <td>2017-11-15 00:01:10</td>\n",
       "      <td>211</td>\n",
       "      <td>Urgncia Polivalente</td>\n",
       "      <td>Espera: Medicina Interna</td>\n",
       "      <td>4</td>\n",
       "      <td>17</td>\n",
       "      <td>0</td>\n",
       "      <td>S Jose</td>\n",
       "    </tr>\n",
       "    <tr>\n",
       "      <th>1</th>\n",
       "      <td>1</td>\n",
       "      <td>2017-11-15 00:01:10</td>\n",
       "      <td>211</td>\n",
       "      <td>Urgncia Polivalente</td>\n",
       "      <td>Espera: Medicina Interna</td>\n",
       "      <td>3</td>\n",
       "      <td>34</td>\n",
       "      <td>0</td>\n",
       "      <td>S Jose</td>\n",
       "    </tr>\n",
       "    <tr>\n",
       "      <th>2</th>\n",
       "      <td>2</td>\n",
       "      <td>2017-11-15 00:01:10</td>\n",
       "      <td>211</td>\n",
       "      <td>Urgncia Polivalente</td>\n",
       "      <td>Espera: Cirurgia Geral</td>\n",
       "      <td>3</td>\n",
       "      <td>6</td>\n",
       "      <td>0</td>\n",
       "      <td>S Jose</td>\n",
       "    </tr>\n",
       "    <tr>\n",
       "      <th>3</th>\n",
       "      <td>3</td>\n",
       "      <td>2017-11-15 00:01:10</td>\n",
       "      <td>211</td>\n",
       "      <td>Urgncia Polivalente</td>\n",
       "      <td>Espera: Oftalmologia</td>\n",
       "      <td>3</td>\n",
       "      <td>5</td>\n",
       "      <td>0</td>\n",
       "      <td>S Jose</td>\n",
       "    </tr>\n",
       "    <tr>\n",
       "      <th>4</th>\n",
       "      <td>4</td>\n",
       "      <td>2017-11-15 00:01:10</td>\n",
       "      <td>211</td>\n",
       "      <td>Urgncia Polivalente</td>\n",
       "      <td>Espera: Medicina Interna</td>\n",
       "      <td>2</td>\n",
       "      <td>309</td>\n",
       "      <td>8</td>\n",
       "      <td>S Jose</td>\n",
       "    </tr>\n",
       "    <tr>\n",
       "      <th>...</th>\n",
       "      <td>...</td>\n",
       "      <td>...</td>\n",
       "      <td>...</td>\n",
       "      <td>...</td>\n",
       "      <td>...</td>\n",
       "      <td>...</td>\n",
       "      <td>...</td>\n",
       "      <td>...</td>\n",
       "      <td>...</td>\n",
       "    </tr>\n",
       "    <tr>\n",
       "      <th>1603379</th>\n",
       "      <td>1603417</td>\n",
       "      <td>2019-04-29 23:59:41</td>\n",
       "      <td>218</td>\n",
       "      <td>Urgncia Central</td>\n",
       "      <td>Medicina</td>\n",
       "      <td>4</td>\n",
       "      <td>13</td>\n",
       "      <td>0</td>\n",
       "      <td>Santa Maria</td>\n",
       "    </tr>\n",
       "    <tr>\n",
       "      <th>1603380</th>\n",
       "      <td>1603418</td>\n",
       "      <td>2019-04-29 23:59:41</td>\n",
       "      <td>218</td>\n",
       "      <td>Urgncia Central</td>\n",
       "      <td>Cirurgia</td>\n",
       "      <td>3</td>\n",
       "      <td>10</td>\n",
       "      <td>0</td>\n",
       "      <td>Santa Maria</td>\n",
       "    </tr>\n",
       "    <tr>\n",
       "      <th>1603381</th>\n",
       "      <td>1603419</td>\n",
       "      <td>2019-04-29 23:59:41</td>\n",
       "      <td>218</td>\n",
       "      <td>Urgncia Central</td>\n",
       "      <td>Medicina</td>\n",
       "      <td>3</td>\n",
       "      <td>53</td>\n",
       "      <td>13</td>\n",
       "      <td>Santa Maria</td>\n",
       "    </tr>\n",
       "    <tr>\n",
       "      <th>1603382</th>\n",
       "      <td>1603420</td>\n",
       "      <td>2019-04-29 23:59:41</td>\n",
       "      <td>218</td>\n",
       "      <td>Urgncia Central</td>\n",
       "      <td>Cirurgia</td>\n",
       "      <td>2</td>\n",
       "      <td>52</td>\n",
       "      <td>1</td>\n",
       "      <td>Santa Maria</td>\n",
       "    </tr>\n",
       "    <tr>\n",
       "      <th>1603383</th>\n",
       "      <td>1603421</td>\n",
       "      <td>2019-04-29 23:59:41</td>\n",
       "      <td>218</td>\n",
       "      <td>Urgncia Central</td>\n",
       "      <td>Medicina</td>\n",
       "      <td>2</td>\n",
       "      <td>137</td>\n",
       "      <td>9</td>\n",
       "      <td>Santa Maria</td>\n",
       "    </tr>\n",
       "  </tbody>\n",
       "</table>\n",
       "<p>1603384 rows × 9 columns</p>\n",
       "</div>"
      ],
      "text/plain": [
       "         Unnamed: 0    Acquisition_Time  Hospital         Urgency_Type  \\\n",
       "0                 0 2017-11-15 00:01:10       211  Urgncia Polivalente   \n",
       "1                 1 2017-11-15 00:01:10       211  Urgncia Polivalente   \n",
       "2                 2 2017-11-15 00:01:10       211  Urgncia Polivalente   \n",
       "3                 3 2017-11-15 00:01:10       211  Urgncia Polivalente   \n",
       "4                 4 2017-11-15 00:01:10       211  Urgncia Polivalente   \n",
       "...             ...                 ...       ...                  ...   \n",
       "1603379     1603417 2019-04-29 23:59:41       218      Urgncia Central   \n",
       "1603380     1603418 2019-04-29 23:59:41       218      Urgncia Central   \n",
       "1603381     1603419 2019-04-29 23:59:41       218      Urgncia Central   \n",
       "1603382     1603420 2019-04-29 23:59:41       218      Urgncia Central   \n",
       "1603383     1603421 2019-04-29 23:59:41       218      Urgncia Central   \n",
       "\n",
       "                          Service  Emergency_Stage  Waiting_Time  \\\n",
       "0        Espera: Medicina Interna                4            17   \n",
       "1        Espera: Medicina Interna                3            34   \n",
       "2          Espera: Cirurgia Geral                3             6   \n",
       "3            Espera: Oftalmologia                3             5   \n",
       "4        Espera: Medicina Interna                2           309   \n",
       "...                           ...              ...           ...   \n",
       "1603379                  Medicina                4            13   \n",
       "1603380                  Cirurgia                3            10   \n",
       "1603381                  Medicina                3            53   \n",
       "1603382                  Cirurgia                2            52   \n",
       "1603383                  Medicina                2           137   \n",
       "\n",
       "         People_Waiting       H_Name  \n",
       "0                     0       S Jose  \n",
       "1                     0       S Jose  \n",
       "2                     0       S Jose  \n",
       "3                     0       S Jose  \n",
       "4                     8       S Jose  \n",
       "...                 ...          ...  \n",
       "1603379               0  Santa Maria  \n",
       "1603380               0  Santa Maria  \n",
       "1603381              13  Santa Maria  \n",
       "1603382               1  Santa Maria  \n",
       "1603383               9  Santa Maria  \n",
       "\n",
       "[1603384 rows x 9 columns]"
      ]
     },
     "execution_count": 75,
     "metadata": {},
     "output_type": "execute_result"
    }
   ],
   "source": [
    "df = pd.read_csv('sns_df.csv', sep=',',parse_dates=['Acquisition_Time'])\n",
    "df"
   ]
  },
  {
   "cell_type": "code",
   "execution_count": 76,
   "id": "170c7dee",
   "metadata": {},
   "outputs": [
    {
     "data": {
      "text/html": [
       "<div>\n",
       "<style scoped>\n",
       "    .dataframe tbody tr th:only-of-type {\n",
       "        vertical-align: middle;\n",
       "    }\n",
       "\n",
       "    .dataframe tbody tr th {\n",
       "        vertical-align: top;\n",
       "    }\n",
       "\n",
       "    .dataframe thead th {\n",
       "        text-align: right;\n",
       "    }\n",
       "</style>\n",
       "<table border=\"1\" class=\"dataframe\">\n",
       "  <thead>\n",
       "    <tr style=\"text-align: right;\">\n",
       "      <th></th>\n",
       "      <th>Acquisition_Time</th>\n",
       "      <th>H_Name</th>\n",
       "      <th>Service</th>\n",
       "      <th>Waiting_Time</th>\n",
       "      <th>People_Waiting</th>\n",
       "      <th>Emergency_Stage</th>\n",
       "    </tr>\n",
       "  </thead>\n",
       "  <tbody>\n",
       "    <tr>\n",
       "      <th>0</th>\n",
       "      <td>2017-11-15 00:01:10</td>\n",
       "      <td>S Jose</td>\n",
       "      <td>Espera: Medicina Interna</td>\n",
       "      <td>17</td>\n",
       "      <td>0</td>\n",
       "      <td>4</td>\n",
       "    </tr>\n",
       "    <tr>\n",
       "      <th>1</th>\n",
       "      <td>2017-11-15 00:01:10</td>\n",
       "      <td>S Jose</td>\n",
       "      <td>Espera: Medicina Interna</td>\n",
       "      <td>34</td>\n",
       "      <td>0</td>\n",
       "      <td>3</td>\n",
       "    </tr>\n",
       "    <tr>\n",
       "      <th>2</th>\n",
       "      <td>2017-11-15 00:01:10</td>\n",
       "      <td>S Jose</td>\n",
       "      <td>Espera: Cirurgia Geral</td>\n",
       "      <td>6</td>\n",
       "      <td>0</td>\n",
       "      <td>3</td>\n",
       "    </tr>\n",
       "    <tr>\n",
       "      <th>3</th>\n",
       "      <td>2017-11-15 00:01:10</td>\n",
       "      <td>S Jose</td>\n",
       "      <td>Espera: Oftalmologia</td>\n",
       "      <td>5</td>\n",
       "      <td>0</td>\n",
       "      <td>3</td>\n",
       "    </tr>\n",
       "    <tr>\n",
       "      <th>4</th>\n",
       "      <td>2017-11-15 00:01:10</td>\n",
       "      <td>S Jose</td>\n",
       "      <td>Espera: Medicina Interna</td>\n",
       "      <td>309</td>\n",
       "      <td>8</td>\n",
       "      <td>2</td>\n",
       "    </tr>\n",
       "    <tr>\n",
       "      <th>...</th>\n",
       "      <td>...</td>\n",
       "      <td>...</td>\n",
       "      <td>...</td>\n",
       "      <td>...</td>\n",
       "      <td>...</td>\n",
       "      <td>...</td>\n",
       "    </tr>\n",
       "    <tr>\n",
       "      <th>1603379</th>\n",
       "      <td>2019-04-29 23:59:41</td>\n",
       "      <td>Santa Maria</td>\n",
       "      <td>Medicina</td>\n",
       "      <td>13</td>\n",
       "      <td>0</td>\n",
       "      <td>4</td>\n",
       "    </tr>\n",
       "    <tr>\n",
       "      <th>1603380</th>\n",
       "      <td>2019-04-29 23:59:41</td>\n",
       "      <td>Santa Maria</td>\n",
       "      <td>Cirurgia</td>\n",
       "      <td>10</td>\n",
       "      <td>0</td>\n",
       "      <td>3</td>\n",
       "    </tr>\n",
       "    <tr>\n",
       "      <th>1603381</th>\n",
       "      <td>2019-04-29 23:59:41</td>\n",
       "      <td>Santa Maria</td>\n",
       "      <td>Medicina</td>\n",
       "      <td>53</td>\n",
       "      <td>13</td>\n",
       "      <td>3</td>\n",
       "    </tr>\n",
       "    <tr>\n",
       "      <th>1603382</th>\n",
       "      <td>2019-04-29 23:59:41</td>\n",
       "      <td>Santa Maria</td>\n",
       "      <td>Cirurgia</td>\n",
       "      <td>52</td>\n",
       "      <td>1</td>\n",
       "      <td>2</td>\n",
       "    </tr>\n",
       "    <tr>\n",
       "      <th>1603383</th>\n",
       "      <td>2019-04-29 23:59:41</td>\n",
       "      <td>Santa Maria</td>\n",
       "      <td>Medicina</td>\n",
       "      <td>137</td>\n",
       "      <td>9</td>\n",
       "      <td>2</td>\n",
       "    </tr>\n",
       "  </tbody>\n",
       "</table>\n",
       "<p>1603384 rows × 6 columns</p>\n",
       "</div>"
      ],
      "text/plain": [
       "           Acquisition_Time       H_Name                   Service  \\\n",
       "0       2017-11-15 00:01:10       S Jose  Espera: Medicina Interna   \n",
       "1       2017-11-15 00:01:10       S Jose  Espera: Medicina Interna   \n",
       "2       2017-11-15 00:01:10       S Jose    Espera: Cirurgia Geral   \n",
       "3       2017-11-15 00:01:10       S Jose      Espera: Oftalmologia   \n",
       "4       2017-11-15 00:01:10       S Jose  Espera: Medicina Interna   \n",
       "...                     ...          ...                       ...   \n",
       "1603379 2019-04-29 23:59:41  Santa Maria                  Medicina   \n",
       "1603380 2019-04-29 23:59:41  Santa Maria                  Cirurgia   \n",
       "1603381 2019-04-29 23:59:41  Santa Maria                  Medicina   \n",
       "1603382 2019-04-29 23:59:41  Santa Maria                  Cirurgia   \n",
       "1603383 2019-04-29 23:59:41  Santa Maria                  Medicina   \n",
       "\n",
       "         Waiting_Time  People_Waiting  Emergency_Stage  \n",
       "0                  17               0                4  \n",
       "1                  34               0                3  \n",
       "2                   6               0                3  \n",
       "3                   5               0                3  \n",
       "4                 309               8                2  \n",
       "...               ...             ...              ...  \n",
       "1603379            13               0                4  \n",
       "1603380            10               0                3  \n",
       "1603381            53              13                3  \n",
       "1603382            52               1                2  \n",
       "1603383           137               9                2  \n",
       "\n",
       "[1603384 rows x 6 columns]"
      ]
     },
     "execution_count": 76,
     "metadata": {},
     "output_type": "execute_result"
    }
   ],
   "source": [
    "df_plot=df[['Acquisition_Time','H_Name','Service','Waiting_Time','People_Waiting','Emergency_Stage']]\n",
    "df_plot"
   ]
  },
  {
   "cell_type": "code",
   "execution_count": 77,
   "id": "b36d875c",
   "metadata": {},
   "outputs": [
    {
     "name": "stderr",
     "output_type": "stream",
     "text": [
      "C:\\Users\\gonçalo\\AppData\\Local\\Temp\\ipykernel_11232\\1044734689.py:1: SettingWithCopyWarning:\n",
      "\n",
      "\n",
      "A value is trying to be set on a copy of a slice from a DataFrame.\n",
      "Try using .loc[row_indexer,col_indexer] = value instead\n",
      "\n",
      "See the caveats in the documentation: https://pandas.pydata.org/pandas-docs/stable/user_guide/indexing.html#returning-a-view-versus-a-copy\n",
      "\n",
      "C:\\Users\\gonçalo\\AppData\\Local\\Temp\\ipykernel_11232\\1044734689.py:2: SettingWithCopyWarning:\n",
      "\n",
      "\n",
      "A value is trying to be set on a copy of a slice from a DataFrame.\n",
      "Try using .loc[row_indexer,col_indexer] = value instead\n",
      "\n",
      "See the caveats in the documentation: https://pandas.pydata.org/pandas-docs/stable/user_guide/indexing.html#returning-a-view-versus-a-copy\n",
      "\n"
     ]
    }
   ],
   "source": [
    "df_plot['Weekday'] = df_plot['Acquisition_Time'].dt.weekday\n",
    "df_plot['Year'] = df_plot['Acquisition_Time'].dt.year"
   ]
  },
  {
   "cell_type": "code",
   "execution_count": 302,
   "id": "1ec75098",
   "metadata": {},
   "outputs": [],
   "source": [
    "hospital_s_jose = df_plot.loc[df['H_Name'] == 'S Jose']\n",
    "hospital_s_maria = df_plot.loc[df['H_Name'] == 'Santa Maria']\n",
    "hospital_s_xavier = df_plot.loc[df['H_Name'] == 'SFX']\n",
    "hospital_estefania = df_plot.loc[df['H_Name'] == 'Estefania']"
   ]
  },
  {
   "cell_type": "code",
   "execution_count": 91,
   "id": "d532bdd8",
   "metadata": {
    "scrolled": false
   },
   "outputs": [],
   "source": [
    "def encoder(hospital):\n",
    "    enc = preprocessing.OneHotEncoder()\n",
    "    enc.fit(hospital[['Service']])\n",
    "    enc.categories_\n",
    "    one_hot = enc.transform(hospital[['Service']]).toarray()\n",
    "    \n",
    "    hospital[hospital['Service'].unique()] = one_hot\n",
    "\n",
    "    return hospital"
   ]
  },
  {
   "cell_type": "code",
   "execution_count": 105,
   "id": "0a2c56b3",
   "metadata": {},
   "outputs": [],
   "source": [
    "encoder(hospital_s_jose)\n",
    "encoder(hospital_s_maria)\n",
    "encoder(hospital_s_xavier)\n",
    "encoder(hospital_estefania)\n",
    "warnings.simplefilter('ignore')"
   ]
  },
  {
   "cell_type": "code",
   "execution_count": 6,
   "id": "c169177f",
   "metadata": {},
   "outputs": [
    {
     "data": {
      "text/plain": [
       "['Espera: Medicina Interna',\n",
       " 'Espera: Cirurgia Geral',\n",
       " 'Espera: Oftalmologia',\n",
       " 'Espera: Ortopedia',\n",
       " 'Espera: Otorrinolaringologia',\n",
       " 'Espera: Pequena Cirurgia',\n",
       " 'Aguarda Balcao (Medico)',\n",
       " 'Aguarda Balcao Trauma',\n",
       " 'Aguarda Sector Ortopedico',\n",
       " 'Aguarda Cirurgia Plastica',\n",
       " 'Aguarda Atendimento Geral',\n",
       " 'Espera por 1 observacao medica',\n",
       " 'Aguarda Sector Psiquiatria',\n",
       " 'Aguarda Pequena Cirurgia Geral',\n",
       " 'Aguarda Balcao (Cirurgia)',\n",
       " 'Cirurgia',\n",
       " 'Medicina',\n",
       " 'Espera: Pediatria',\n",
       " 'Espera: Cirurgia',\n",
       " 'Espera: Otorrino',\n",
       " 'Sala de Espera Pos-Triagem',\n",
       " 'Aguardar Vaga/ECO/CTG/ Terapeutica',\n",
       " 'Bloco de Partos']"
      ]
     },
     "execution_count": 6,
     "metadata": {},
     "output_type": "execute_result"
    }
   ],
   "source": [
    "all_services_test=[]\n",
    "all_services_test.append(hospital_s_jose['Service'].unique())\n",
    "all_services_test.append(hospital_s_maria['Service'].unique())\n",
    "all_services_test.append(hospital_s_xavier['Service'].unique())\n",
    "all_services_test.append(hospital_estefania['Service'].unique())\n",
    "\n",
    "services_list=[]\n",
    "\n",
    "for i in all_services_test:\n",
    "    for s in i:\n",
    "        if s not in services_list:\n",
    "            services_list.append(s)\n",
    "        else:\n",
    "            pass\n",
    "        \n",
    "services_list"
   ]
  },
  {
   "cell_type": "code",
   "execution_count": 69,
   "id": "51fd5f32",
   "metadata": {},
   "outputs": [],
   "source": []
  },
  {
   "cell_type": "code",
   "execution_count": 8,
   "id": "71de587d",
   "metadata": {},
   "outputs": [
    {
     "data": {
      "text/plain": [
       "([0, 1, 2, 3],\n",
       " [Text(0, 0, ''), Text(0, 0, ''), Text(0, 0, ''), Text(0, 0, '')])"
      ]
     },
     "execution_count": 8,
     "metadata": {},
     "output_type": "execute_result"
    },
    {
     "data": {
      "image/png": "[encoded data removed]",
      "text/plain": [
       "<Figure size 720x576 with 1 Axes>"
      ]
     },
     "metadata": {
      "needs_background": "light"
     },
     "output_type": "display_data"
    }
   ],
   "source": [
    "plt.figure(figsize=(10, 8))\n",
    "plt.scatter(df['H_Name'],df['Service'])\n",
    "plt.xticks(rotation = 0)"
   ]
  },
  {
   "cell_type": "code",
   "execution_count": 238,
   "id": "65c47c6f",
   "metadata": {},
   "outputs": [],
   "source": [
    "def corr(hospital):\n",
    "    h = hospital.corr()\n",
    "    h = h.dropna(how='all')\n",
    "    h.dropna(axis = 1, how ='all', inplace = True)\n",
    "    \n",
    "    fig, ax = plt.subplots(figsize=(10,10))\n",
    "    sns.heatmap(h.corr(), cmap='Reds', annot=True)\n",
    "    plt.title('Correlation Matrix');\n",
    "    "
   ]
  },
  {
   "cell_type": "code",
   "execution_count": 239,
   "id": "73cf31f9",
   "metadata": {},
   "outputs": [
    {
     "data": {
      "image/png": "[encoded data removed]",
      "text/plain": [
       "<Figure size 720x720 with 2 Axes>"
      ]
     },
     "metadata": {
      "needs_background": "light"
     },
     "output_type": "display_data"
    }
   ],
   "source": [
    "corr(hospital_estefania)"
   ]
  },
  {
   "cell_type": "code",
   "execution_count": 27,
   "id": "e9d8e546",
   "metadata": {},
   "outputs": [],
   "source": [
    "def rmse(targets,predictions):\n",
    "    return np.sqrt(np.mean(np.square(targets - predictions)))"
   ]
  },
  {
   "cell_type": "code",
   "execution_count": 29,
   "id": "780a479b",
   "metadata": {},
   "outputs": [],
   "source": [
    "def try_parameters(hospital,w, b):\n",
    "    fig = px.scatter_3d(hospital[['Emergency_Stage','Waiting_Time','Weekday']], x='Emergency_Stage', y='Weekday', z='Waiting_Time')\n",
    "    fig.update_traces(marker_size=3, marker_opacity=0.5)\n",
    "    \n",
    "    fig.show()"
   ]
  },
  {
   "cell_type": "code",
   "execution_count": 240,
   "id": "4728802f",
   "metadata": {
    "scrolled": true
   },
   "outputs": [
    {
     "data": {
      "text/plain": [
       "array([[-0.59839114, -0.45361805],\n",
       "       [-0.62210911, -0.79088316],\n",
       "       [ 0.20801978,  2.24450279],\n",
       "       ...,\n",
       "       [-0.00544193,  0.55817726],\n",
       "       [-0.07659584,  0.22091216],\n",
       "       [ 0.77725102,  1.90723769]])"
      ]
     },
     "execution_count": 240,
     "metadata": {},
     "output_type": "execute_result"
    }
   ],
   "source": [
    "warnings.simplefilter('ignore')\n",
    "\n",
    "h = hospital_estefania[hospital_estefania['Weekday'] == 0]\n",
    "\n",
    "nan_value = float(\"NaN\")\n",
    "h.replace(0, nan_value, inplace=True)\n",
    "h.dropna(how='all', axis=1, inplace=True)\n",
    "h.replace(nan_value, 0, inplace=True)\n",
    "\n",
    "h_numeric_columns= ['Waiting_Time','People_Waiting']\n",
    "scaler = StandardScaler()\n",
    "scaler.fit(h[h_numeric_columns])\n",
    "scaler.mean_\n",
    "scaler.var_\n",
    "\n",
    "scaled_inputs = scaler.transform(h[h_numeric_columns])\n",
    "scaled_inputs"
   ]
  },
  {
   "cell_type": "code",
   "execution_count": 314,
   "id": "64629d14",
   "metadata": {
    "scrolled": false
   },
   "outputs": [
    {
     "ename": "KeyError",
     "evalue": "\"['Espera: Pediatria', 'Espera: Ortopedia', 'Espera: Cirurgia', 'Espera: Otorrino'] not in index\"",
     "output_type": "error",
     "traceback": [
      "\u001b[1;31m---------------------------------------------------------------------------\u001b[0m",
      "\u001b[1;31mKeyError\u001b[0m                                  Traceback (most recent call last)",
      "Input \u001b[1;32mIn [314]\u001b[0m, in \u001b[0;36m<cell line: 13>\u001b[1;34m()\u001b[0m\n\u001b[0;32m     10\u001b[0m h_array \u001b[38;5;241m=\u001b[39m hospital_estefania[\u001b[38;5;124m'\u001b[39m\u001b[38;5;124mService\u001b[39m\u001b[38;5;124m'\u001b[39m]\u001b[38;5;241m.\u001b[39munique()\n\u001b[0;32m     11\u001b[0m h_array \u001b[38;5;241m=\u001b[39m np\u001b[38;5;241m.\u001b[39mappend(h_array,\u001b[38;5;124m'\u001b[39m\u001b[38;5;124mEmergency_Stage\u001b[39m\u001b[38;5;124m'\u001b[39m)\n\u001b[1;32m---> 13\u001b[0m inputs, targets \u001b[38;5;241m=\u001b[39m \u001b[43mh\u001b[49m\u001b[43m[\u001b[49m\u001b[43mh_array\u001b[49m\u001b[43m]\u001b[49m,h[[\u001b[38;5;124m'\u001b[39m\u001b[38;5;124mWaiting_Time\u001b[39m\u001b[38;5;124m'\u001b[39m]]\n\u001b[0;32m     14\u001b[0m model \u001b[38;5;241m=\u001b[39m LinearRegression()\u001b[38;5;241m.\u001b[39mfit(inputs,targets)\n\u001b[0;32m     16\u001b[0m predictions\u001b[38;5;241m=\u001b[39mmodel\u001b[38;5;241m.\u001b[39mpredict(inputs)\n",
      "File \u001b[1;32mC:\\ProgramData\\Anaconda3\\lib\\site-packages\\pandas\\core\\frame.py:3511\u001b[0m, in \u001b[0;36mDataFrame.__getitem__\u001b[1;34m(self, key)\u001b[0m\n\u001b[0;32m   3509\u001b[0m     \u001b[38;5;28;01mif\u001b[39;00m is_iterator(key):\n\u001b[0;32m   3510\u001b[0m         key \u001b[38;5;241m=\u001b[39m \u001b[38;5;28mlist\u001b[39m(key)\n\u001b[1;32m-> 3511\u001b[0m     indexer \u001b[38;5;241m=\u001b[39m \u001b[38;5;28;43mself\u001b[39;49m\u001b[38;5;241;43m.\u001b[39;49m\u001b[43mcolumns\u001b[49m\u001b[38;5;241;43m.\u001b[39;49m\u001b[43m_get_indexer_strict\u001b[49m\u001b[43m(\u001b[49m\u001b[43mkey\u001b[49m\u001b[43m,\u001b[49m\u001b[43m \u001b[49m\u001b[38;5;124;43m\"\u001b[39;49m\u001b[38;5;124;43mcolumns\u001b[39;49m\u001b[38;5;124;43m\"\u001b[39;49m\u001b[43m)\u001b[49m[\u001b[38;5;241m1\u001b[39m]\n\u001b[0;32m   3513\u001b[0m \u001b[38;5;66;03m# take() does not accept boolean indexers\u001b[39;00m\n\u001b[0;32m   3514\u001b[0m \u001b[38;5;28;01mif\u001b[39;00m \u001b[38;5;28mgetattr\u001b[39m(indexer, \u001b[38;5;124m\"\u001b[39m\u001b[38;5;124mdtype\u001b[39m\u001b[38;5;124m\"\u001b[39m, \u001b[38;5;28;01mNone\u001b[39;00m) \u001b[38;5;241m==\u001b[39m \u001b[38;5;28mbool\u001b[39m:\n",
      "File \u001b[1;32mC:\\ProgramData\\Anaconda3\\lib\\site-packages\\pandas\\core\\indexes\\base.py:5782\u001b[0m, in \u001b[0;36mIndex._get_indexer_strict\u001b[1;34m(self, key, axis_name)\u001b[0m\n\u001b[0;32m   5779\u001b[0m \u001b[38;5;28;01melse\u001b[39;00m:\n\u001b[0;32m   5780\u001b[0m     keyarr, indexer, new_indexer \u001b[38;5;241m=\u001b[39m \u001b[38;5;28mself\u001b[39m\u001b[38;5;241m.\u001b[39m_reindex_non_unique(keyarr)\n\u001b[1;32m-> 5782\u001b[0m \u001b[38;5;28;43mself\u001b[39;49m\u001b[38;5;241;43m.\u001b[39;49m\u001b[43m_raise_if_missing\u001b[49m\u001b[43m(\u001b[49m\u001b[43mkeyarr\u001b[49m\u001b[43m,\u001b[49m\u001b[43m \u001b[49m\u001b[43mindexer\u001b[49m\u001b[43m,\u001b[49m\u001b[43m \u001b[49m\u001b[43maxis_name\u001b[49m\u001b[43m)\u001b[49m\n\u001b[0;32m   5784\u001b[0m keyarr \u001b[38;5;241m=\u001b[39m \u001b[38;5;28mself\u001b[39m\u001b[38;5;241m.\u001b[39mtake(indexer)\n\u001b[0;32m   5785\u001b[0m \u001b[38;5;28;01mif\u001b[39;00m \u001b[38;5;28misinstance\u001b[39m(key, Index):\n\u001b[0;32m   5786\u001b[0m     \u001b[38;5;66;03m# GH 42790 - Preserve name from an Index\u001b[39;00m\n",
      "File \u001b[1;32mC:\\ProgramData\\Anaconda3\\lib\\site-packages\\pandas\\core\\indexes\\base.py:5845\u001b[0m, in \u001b[0;36mIndex._raise_if_missing\u001b[1;34m(self, key, indexer, axis_name)\u001b[0m\n\u001b[0;32m   5842\u001b[0m     \u001b[38;5;28;01mraise\u001b[39;00m \u001b[38;5;167;01mKeyError\u001b[39;00m(\u001b[38;5;124mf\u001b[39m\u001b[38;5;124m\"\u001b[39m\u001b[38;5;124mNone of [\u001b[39m\u001b[38;5;132;01m{\u001b[39;00mkey\u001b[38;5;132;01m}\u001b[39;00m\u001b[38;5;124m] are in the [\u001b[39m\u001b[38;5;132;01m{\u001b[39;00maxis_name\u001b[38;5;132;01m}\u001b[39;00m\u001b[38;5;124m]\u001b[39m\u001b[38;5;124m\"\u001b[39m)\n\u001b[0;32m   5844\u001b[0m not_found \u001b[38;5;241m=\u001b[39m \u001b[38;5;28mlist\u001b[39m(ensure_index(key)[missing_mask\u001b[38;5;241m.\u001b[39mnonzero()[\u001b[38;5;241m0\u001b[39m]]\u001b[38;5;241m.\u001b[39munique())\n\u001b[1;32m-> 5845\u001b[0m \u001b[38;5;28;01mraise\u001b[39;00m \u001b[38;5;167;01mKeyError\u001b[39;00m(\u001b[38;5;124mf\u001b[39m\u001b[38;5;124m\"\u001b[39m\u001b[38;5;132;01m{\u001b[39;00mnot_found\u001b[38;5;132;01m}\u001b[39;00m\u001b[38;5;124m not in index\u001b[39m\u001b[38;5;124m\"\u001b[39m)\n",
      "\u001b[1;31mKeyError\u001b[0m: \"['Espera: Pediatria', 'Espera: Ortopedia', 'Espera: Cirurgia', 'Espera: Otorrino'] not in index\""
     ]
    }
   ],
   "source": [
    "warnings.simplefilter('ignore')\n",
    "\n",
    "h = hospital_estefania[hospital_estefania['Weekday'] == 0]\n",
    "\n",
    "nan_value = float(\"NaN\")\n",
    "h.replace(0, nan_value, inplace=True)\n",
    "h.dropna(how='all', axis=1, inplace=True)\n",
    "h.replace(nan_value, 0, inplace=True)\n",
    "\n",
    "h_array = hospital_estefania['Service'].unique()\n",
    "h_array = np.append(h_array,'Emergency_Stage')\n",
    "\n",
    "inputs, targets = h[h_array],h[['Waiting_Time']]\n",
    "model = LinearRegression().fit(inputs,targets)\n",
    "\n",
    "predictions=model.predict(inputs)\n",
    "print(predictions)\n",
    "print(rmse(targets,predictions))"
   ]
  },
  {
   "cell_type": "code",
   "execution_count": 315,
   "id": "b78e7327",
   "metadata": {},
   "outputs": [],
   "source": [
    "def regressor_estimator(hospital):\n",
    "    hospital = hospital_s_jose\n",
    "    try:\n",
    "        warnings.simplefilter('ignore')\n",
    "\n",
    "        h = hospital[hospital['Weekday'] == 0]\n",
    "\n",
    "        nan_value = float(\"NaN\")\n",
    "        h.replace(0, nan_value, inplace=True)\n",
    "        h.dropna(how='all', axis=1, inplace=True)\n",
    "        h.replace(nan_value, 0, inplace=True)\n",
    "\n",
    "        h_array = hospital['Service'].unique()\n",
    "        h_array = np.append(h_array,'Emergency_Stage')\n",
    "        print(h_array)\n",
    "\n",
    "        inputs, targets = h[h_array],h[['Waiting_Time']]\n",
    "        model = LinearRegression().fit(inputs,targets)\n",
    "\n",
    "        predictions=model.predict(inputs)\n",
    "        print(predictions)\n",
    "        print(rmse(targets,predictions))\n",
    "        \n",
    "    except Exception as e:\n",
    "        print(e)"
   ]
  },
  {
   "cell_type": "code",
   "execution_count": 304,
   "id": "10c2ec76",
   "metadata": {},
   "outputs": [
    {
     "name": "stdout",
     "output_type": "stream",
     "text": [
      "['Espera: Medicina Interna' 'Espera: Cirurgia Geral'\n",
      " 'Espera: Oftalmologia' 'Espera: Ortopedia' 'Espera: Otorrinolaringologia'\n",
      " 'Espera: Pequena Cirurgia' 'Aguarda Balcao (Medico)'\n",
      " 'Aguarda Balcao Trauma' 'Aguarda Sector Ortopedico'\n",
      " 'Aguarda Cirurgia Plastica' 'Aguarda Atendimento Geral'\n",
      " 'Espera por 1 observacao medica' 'Aguarda Sector Psiquiatria'\n",
      " 'Aguarda Pequena Cirurgia Geral' 'Aguarda Balcao (Cirurgia)'\n",
      " 'Emergency_Stage']\n",
      "\"['Espera: Medicina Interna', 'Espera: Cirurgia Geral', 'Espera: Oftalmologia', 'Espera: Ortopedia', 'Espera: Otorrinolaringologia', 'Espera: Pequena Cirurgia', 'Aguarda Balcao (Medico)', 'Aguarda Balcao Trauma', 'Aguarda Sector Ortopedico', 'Aguarda Cirurgia Plastica', 'Aguarda Atendimento Geral', 'Espera por 1 observacao medica', 'Aguarda Sector Psiquiatria', 'Aguarda Pequena Cirurgia Geral', 'Aguarda Balcao (Cirurgia)'] not in index\"\n"
     ]
    }
   ],
   "source": [
    "regressor_estimator(hospital_estefania)"
   ]
  },
  {
   "cell_type": "code",
   "execution_count": 237,
   "id": "41150982",
   "metadata": {},
   "outputs": [
    {
     "data": {
      "text/html": [
       "<div>\n",
       "<style scoped>\n",
       "    .dataframe tbody tr th:only-of-type {\n",
       "        vertical-align: middle;\n",
       "    }\n",
       "\n",
       "    .dataframe tbody tr th {\n",
       "        vertical-align: top;\n",
       "    }\n",
       "\n",
       "    .dataframe thead th {\n",
       "        text-align: right;\n",
       "    }\n",
       "</style>\n",
       "<table border=\"1\" class=\"dataframe\">\n",
       "  <thead>\n",
       "    <tr style=\"text-align: right;\">\n",
       "      <th></th>\n",
       "      <th>feature</th>\n",
       "      <th>weight</th>\n",
       "    </tr>\n",
       "  </thead>\n",
       "  <tbody>\n",
       "    <tr>\n",
       "      <th>0</th>\n",
       "      <td>Espera: Pediatria</td>\n",
       "      <td>1.422693e+13</td>\n",
       "    </tr>\n",
       "    <tr>\n",
       "      <th>1</th>\n",
       "      <td>Espera: Ortopedia</td>\n",
       "      <td>1.422693e+13</td>\n",
       "    </tr>\n",
       "    <tr>\n",
       "      <th>2</th>\n",
       "      <td>Espera: Cirurgia</td>\n",
       "      <td>1.422693e+13</td>\n",
       "    </tr>\n",
       "    <tr>\n",
       "      <th>3</th>\n",
       "      <td>Espera: Otorrino</td>\n",
       "      <td>1.422693e+13</td>\n",
       "    </tr>\n",
       "    <tr>\n",
       "      <th>4</th>\n",
       "      <td>Emergency_Stage</td>\n",
       "      <td>-1.742398e+01</td>\n",
       "    </tr>\n",
       "    <tr>\n",
       "      <th>5</th>\n",
       "      <td>1</td>\n",
       "      <td>-1.422693e+13</td>\n",
       "    </tr>\n",
       "  </tbody>\n",
       "</table>\n",
       "</div>"
      ],
      "text/plain": [
       "             feature        weight\n",
       "0  Espera: Pediatria  1.422693e+13\n",
       "1  Espera: Ortopedia  1.422693e+13\n",
       "2   Espera: Cirurgia  1.422693e+13\n",
       "3   Espera: Otorrino  1.422693e+13\n",
       "4    Emergency_Stage -1.742398e+01\n",
       "5                  1 -1.422693e+13"
      ]
     },
     "execution_count": 237,
     "metadata": {},
     "output_type": "execute_result"
    }
   ],
   "source": [
    "input_cols = ['Espera: Pediatria','Espera: Ortopedia','Espera: Cirurgia','Espera: Otorrino','Emergency_Stage']\n",
    "\n",
    "weights_df = pd.DataFrame({\n",
    "    'feature': np.append(input_cols,1),\n",
    "    'weight': np.append(model.coef_, model.intercept_)\n",
    "})\n",
    "weights_df"
   ]
  },
  {
   "cell_type": "code",
   "execution_count": null,
   "id": "fdb97577",
   "metadata": {},
   "outputs": [],
   "source": [
    "1.422693e+13*h['Espera: Pediatria']+1.422693e+13"
   ]
  },
  {
   "cell_type": "code",
   "execution_count": null,
   "id": "f3bf2364",
   "metadata": {},
   "outputs": [],
   "source": [
    "def regression(hospital,hospital_str):\n",
    "    "
   ]
  },
  {
   "cell_type": "code",
   "execution_count": null,
   "id": "5a42857f",
   "metadata": {},
   "outputs": [],
   "source": [
    "fig = px.scatter_3d(h[['Emergency_Stage','Waiting_Time','Espera: Pediatria']], x='Emergency_Stage', y='Espera: Pediatria', z='Waiting_Time')\n",
    "fig.update_traces(marker_size=3, marker_opacity=0.5)\n",
    "    \n",
    "fig.show()"
   ]
  },
  {
   "cell_type": "code",
   "execution_count": null,
   "id": "3e24c9ce",
   "metadata": {},
   "outputs": [],
   "source": []
  }
 ],
 "metadata": {
  "kernelspec": {
   "display_name": "Python 3 (ipykernel)",
   "language": "python",
   "name": "python3"
  },
  "language_info": {
   "codemirror_mode": {
    "name": "ipython",
    "version": 3
   },
   "file_extension": ".py",
   "mimetype": "text/x-python",
   "name": "python",
   "nbconvert_exporter": "python",
   "pygments_lexer": "ipython3",
   "version": "3.9.12"
  }
 },
 "nbformat": 4,
 "nbformat_minor": 5
}
