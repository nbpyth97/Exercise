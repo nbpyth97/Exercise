{
  "nbformat": 4,
  "nbformat_minor": 0,
  "metadata": {
    "colab": {
      "name": "Pstr_TP1_UNTRU_TEC (4).ipynb",
      "provenance": [],
      "collapsed_sections": [],
      "include_colab_link": true
    },
    "kernelspec": {
      "name": "python3",
      "display_name": "Python 3"
    },
    "language_info": {
      "name": "python"
    }
  },
  "cells": [
    {
      "cell_type": "markdown",
      "metadata": {
        "id": "view-in-github",
        "colab_type": "text"
      },
      "source": [
        "<a href=\"https://colab.research.google.com/github/nbpyth97/Exercise/blob/master/Pstr_TP1_UNTRU_TEC_(4).ipynb\" target=\"_parent\"><img src=\"https://colab.research.google.com/assets/colab-badge.svg\" alt=\"Open In Colab\"/></a>"
      ]
    },
    {
      "cell_type": "markdown",
      "source": [
        "# Processamento de Streams 2022\n",
        "**= Gonçalo Castelo e Miguel Simões =**\n",
        "\n",
        "\n",
        "\n",
        "## TP1 - Air Quality Monitoring (airborne particulate matter)\n",
        "-- The goal of this project is to analyze data provided by a set of air quality sensors [sds011](https://aqicn.org/sensor/sds011/pt/). The sensors present in the dataset are located in Portugal, namely in the Lisbon metro area. Each sensor provides two values: measuring particles less than 10 µm (P1) and less than 2.5 µm (P2) in μg/m³.\n",
        "\n",
        "The sensor data, spans the first half of 2020, and is streamed of Kafka. \n",
        "\n",
        "Each data sample has the following schema:\n",
        "\n",
        "sensor_id | sensor_type | location | latitude | longitude | timestamp | P1 | P2\n",
        "----------|-------------|----------|----------|-----------|-----------|----|---\n",
        "string  | string | string | float | float| timestamp | float | float\n",
        "\n",
        "\n",
        "## Questions\n",
        "\n",
        "1. Find the time of day with the poorest air quality, for each location. Updated daily;\n",
        "2. Find the average air quality, for each location. Updated hourly;\n",
        "3. Can you show any daily and/or weekly patterns to air quality?;\n",
        "4. The data covers a period of extensive population confinement due to Covid 19. Can you find a signal in the data showing air quality improvement coinciding with the confinement period?"
      ],
      "metadata": {
        "id": "E4Ubmxxftw8J"
      }
    },
    {
      "cell_type": "markdown",
      "source": [
        "## R's **Data UnStructure**"
      ],
      "metadata": {
        "id": "8vssMqMg2hda"
      }
    },
    {
      "cell_type": "code",
      "source": [
        "#@title Install PySpark\n",
        "!pip install pyspark findspark --quiet\n",
        "import findspark\n",
        "findspark.init()\n",
        "findspark.find()"
      ],
      "metadata": {
        "id": "Jv0ygOKit9D7",
        "colab": {
          "base_uri": "https://localhost:8080/",
          "height": 92
        },
        "outputId": "2eba5ae7-be54-419a-e95e-ed5ad7e85364"
      },
      "execution_count": 2,
      "outputs": [
        {
          "output_type": "stream",
          "name": "stdout",
          "text": [
            "\u001b[K     |████████████████████████████████| 281.4 MB 33 kB/s \n",
            "\u001b[K     |████████████████████████████████| 198 kB 39.6 MB/s \n",
            "\u001b[?25h  Building wheel for pyspark (setup.py) ... \u001b[?25l\u001b[?25hdone\n"
          ]
        },
        {
          "output_type": "execute_result",
          "data": {
            "text/plain": [
              "'/usr/local/lib/python3.7/dist-packages/pyspark'"
            ],
            "application/vnd.google.colaboratory.intrinsic+json": {
              "type": "string"
            }
          },
          "metadata": {},
          "execution_count": 2
        }
      ]
    },
    {
      "cell_type": "code",
      "source": [
        "#@title Install & Launch Kafka\n",
        "%%bash\n",
        "KAFKA_VERSION=3.1.0\n",
        "KAFKA=kafka_2.13-$KAFKA_VERSION\n",
        "wget -q -O /tmp/$KAFKA.tgz https://dlcdn.apache.org/kafka/$KAFKA_VERSION/$KAFKA.tgz\n",
        "tar xfz /tmp/$KAFKA.tgz\n",
        "wget -q -O $KAFKA/config/server1.properties - https://github.com/smduarte/ps2022/raw/main/colab/server1.properties\n",
        "\n",
        "UUID=`$KAFKA/bin/kafka-storage.sh random-uuid`\n",
        "$KAFKA/bin/kafka-storage.sh format -t $UUID -c $KAFKA/config/server1.properties\n",
        "$KAFKA/bin/kafka-server-start.sh -daemon $KAFKA/config/server1.properties"
      ],
      "metadata": {
        "id": "Gwao1gQ4uiY8",
        "colab": {
          "base_uri": "https://localhost:8080/"
        },
        "outputId": "496c9598-14d3-4d1a-8e02-19a1922c3050"
      },
      "execution_count": 3,
      "outputs": [
        {
          "output_type": "stream",
          "name": "stdout",
          "text": [
            "Formatting /tmp/kraft-combined-logs\n"
          ]
        }
      ]
    },
    {
      "cell_type": "code",
      "source": [
        "#@title Start Socket-based Publisher\n",
        "%%bash\n",
        "\n",
        "git clone https://github.com/smduarte/ps2022.git 2> /dev/null > /dev/null || git -C ps2022 pull\n",
        "cd ps2022/colab/socket-tp1-logsender/\n",
        "# port 7777\n",
        "nohup python publisher.py --filename 2020-01-06_sds011-pt.csv --port 7777  --speedup 3600 2> /tmp/publisher-error.log > /tmp/publisher-out.log &"
      ],
      "metadata": {
        "id": "qzjYdhDluqPV"
      },
      "execution_count": 4,
      "outputs": []
    },
    {
      "cell_type": "markdown",
      "source": [
        "## Q1"
      ],
      "metadata": {
        "id": "2p5leROf1zoI"
      }
    },
    {
      "cell_type": "code",
      "source": [
        "from pyspark import SparkContext\n",
        "from pyspark.sql import SparkSession\n",
        "from pyspark.streaming import StreamingContext\n",
        "\n",
        "import matplotlib.pyplot as plt\n",
        "import pandas as pd\n",
        "\n",
        "spark = SparkSession \\\n",
        "    .builder \\\n",
        "    .appName('Kafka Spark UnStructured Streaming Example') \\\n",
        "    .config('spark.jars.packages', 'org.apache.spark:spark-sql-kafka-0-10_2.12:3.2.1') \\\n",
        "    .getOrCreate()\n",
        "\n",
        "try:\n",
        "  ssc = StreamingContext(spark.sparkContext,1)\n",
        "  lines = ssc.socketTextStream('localhost', 7777)\n",
        "  line = lines.window(24,24)\n",
        "\n",
        "  results=line.filter(lambda x : len(x)>0)\\\n",
        "  .map(lambda x:((x.split(' ')[2],x.split(' ')[-1][8:10]),(x.split(' ')[-3],x.split(' ')[-1])))\\\n",
        "  .reduceByKey(max)\n",
        "  #.reduceByKey(lambda a,b: max(a+b))\n",
        "\n",
        "  results.pprint()\n",
        "    \n",
        "  ssc.start()\n",
        "  ssc.awaitTermination(72)\n",
        "except Exception as err:\n",
        "  print(err)\n",
        "ssc.stop()\n",
        "spark.stop()"
      ],
      "metadata": {
        "id": "46JAXZ_C14Q1",
        "colab": {
          "base_uri": "https://localhost:8080/"
        },
        "outputId": "cae8be8b-a29a-43b7-84b8-c1167026b82a"
      },
      "execution_count": 56,
      "outputs": [
        {
          "output_type": "stream",
          "name": "stdout",
          "text": [
            "-------------------------------------------\n",
            "Time: 2022-05-03 12:33:52\n",
            "-------------------------------------------\n",
            "(('13691', '01'), ('97.07', '2020-01-01T18:45:09'))\n",
            "(('14858', '01'), ('99.3', '2020-01-01T22:44:53'))\n",
            "(('2332', '01'), ('99.8', '2020-01-01T17:04:04'))\n",
            "(('10161', '01'), ('99.67', '2020-01-01T17:00:58'))\n",
            "(('14857', '01'), ('99.57', '2020-01-01T12:26:59'))\n",
            "(('19563', '01'), ('9.55', '2020-01-01T13:17:57'))\n",
            "\n",
            "-------------------------------------------\n",
            "Time: 2022-05-03 12:34:16\n",
            "-------------------------------------------\n",
            "(('13691', '01'), ('40.77', '2020-01-01T22:55:55'))\n",
            "(('14858', '01'), ('95.27', '2020-01-01T23:19:34'))\n",
            "(('2332', '01'), ('233.9', '2020-01-01T23:43:42'))\n",
            "(('2332', '02'), ('87.1', '2020-01-02T04:12:52'))\n",
            "(('13691', '02'), ('9.93', '2020-01-02T06:20:19'))\n",
            "(('14858', '02'), ('99.95', '2020-01-02T15:54:02'))\n",
            "(('10161', '01'), ('45.23', '2020-01-01T22:52:26'))\n",
            "(('14857', '01'), ('71.03', '2020-01-01T23:18:12'))\n",
            "(('19563', '01'), ('50.67', '2020-01-01T22:56:34'))\n",
            "(('14857', '02'), ('99.93', '2020-01-02T17:36:48'))\n",
            "...\n",
            "\n"
          ]
        }
      ]
    },
    {
      "cell_type": "markdown",
      "source": [
        "## Q2"
      ],
      "metadata": {
        "id": "APzp2HLU19Oi"
      }
    },
    {
      "cell_type": "code",
      "source": [
        "# Q2 UnStructured from socket\n",
        "\n",
        "from pyspark import SparkContext\n",
        "from pyspark.sql import SparkSession\n",
        "from pyspark.streaming import StreamingContext\n",
        "\n",
        "spark = SparkSession \\\n",
        "    .builder \\\n",
        "    .appName('Kafka Spark UnStructured Streaming Example') \\\n",
        "    .config('spark.jars.packages', 'org.apache.spark:spark-sql-kafka-0-10_2.12:3.2.1') \\\n",
        "    .getOrCreate()\n",
        "\n",
        "try:\n",
        "  ssc = StreamingContext(spark.sparkContext, 1) # 1 segundo = 1 hora (batch de uma hora)\n",
        "  lines = ssc.socketTextStream('localhost', 7777) \n",
        "\n",
        "# key local+hora e calcula média P1 - ordena pelo valor\n",
        "  results=lines.filter(lambda x : len(x)>0)\\\n",
        "  .map(lambda x:((x.split(' ')[2]+' '+x.split(' ')[-1][11:13]),(float(x.split(' ')[-3]),1)))\\\n",
        "  .reduceByKey(lambda x, y: (x[1]+y[0], x[1]+y[1]))\\\n",
        "  .map(lambda x : (x[0],x[1][0]/x[1][1]))\\\n",
        "  .transform(lambda rdd: rdd.sortBy(lambda x: x[1], ascending=False))\n",
        "\n",
        "  results.pprint(40)\n",
        "  ssc.start()\n",
        "  ssc.awaitTermination(10)\n",
        "\n",
        "except Exception as err:\n",
        "  print(err)\n",
        "\n",
        "ssc.stop()\n",
        "spark.stop()"
      ],
      "metadata": {
        "colab": {
          "base_uri": "https://localhost:8080/"
        },
        "id": "maFLyyuD1yHb",
        "outputId": "35031426-e232-4bc5-bbef-86549c8cbed3"
      },
      "execution_count": null,
      "outputs": [
        {
          "output_type": "stream",
          "name": "stdout",
          "text": [
            "-------------------------------------------\n",
            "Time: 2022-05-03 01:51:05\n",
            "-------------------------------------------\n",
            "('14858 00', 14.613529411764706)\n",
            "('14857 00', 10.470588235294118)\n",
            "('10161 00', 9.381666666666668)\n",
            "('13691 00', 1.8127777777777778)\n",
            "\n",
            "-------------------------------------------\n",
            "Time: 2022-05-03 01:51:06\n",
            "-------------------------------------------\n",
            "('2332 00', 88.64999999999999)\n",
            "('14858 00', 39.416666666666664)\n",
            "('14857 00', 21.995)\n",
            "('2332 01', 21.34277777777778)\n",
            "('10161 00', 17.721666666666668)\n",
            "('14858 01', 12.429444444444444)\n",
            "('14857 01', 7.120555555555557)\n",
            "('10161 01', 6.026111111111111)\n",
            "('13691 00', 5.957142857142857)\n",
            "('13691 01', 1.6205555555555557)\n",
            "\n",
            "-------------------------------------------\n",
            "Time: 2022-05-03 01:51:07\n",
            "-------------------------------------------\n",
            "('2332 01', 75.486)\n",
            "('19563 02', 46.72)\n",
            "('14858 01', 29.406)\n",
            "('14857 01', 17.466)\n",
            "('10161 01', 14.0)\n",
            "('2332 02', 11.920555555555556)\n",
            "('14858 02', 9.795333333333334)\n",
            "('14857 02', 5.339375)\n",
            "('10161 02', 4.887894736842106)\n",
            "('13691 01', 2.8783333333333334)\n",
            "('13691 02', 1.6872222222222222)\n",
            "\n",
            "-------------------------------------------\n",
            "Time: 2022-05-03 01:51:08\n",
            "-------------------------------------------\n",
            "('2332 02', 99.285)\n",
            "('2332 03', 41.795)\n",
            "('14858 02', 24.328333333333333)\n",
            "('14857 02', 17.65)\n",
            "('10161 02', 12.833333333333334)\n",
            "('14858 03', 7.644666666666667)\n",
            "('14857 03', 4.864705882352942)\n",
            "('10161 03', 4.551666666666667)\n",
            "('13691 02', 2.7550000000000003)\n",
            "('13691 03', 1.5173684210526315)\n",
            "\n",
            "-------------------------------------------\n",
            "Time: 2022-05-03 01:51:09\n",
            "-------------------------------------------\n",
            "('2332 03', 42.56166666666667)\n",
            "('14858 03', 25.366)\n",
            "('14857 03', 12.9675)\n",
            "('10161 03', 11.878333333333332)\n",
            "('2332 04', 11.301764705882352)\n",
            "('14858 04', 7.598333333333333)\n",
            "('10161 04', 4.5588235294117645)\n",
            "('13691 03', 3.825)\n",
            "('14857 04', 3.5394117647058825)\n",
            "('13691 04', 1.4794444444444446)\n",
            "\n",
            "-------------------------------------------\n",
            "Time: 2022-05-03 01:51:10\n",
            "-------------------------------------------\n",
            "('19563 05', 83.06)\n",
            "('2332 04', 40.11857142857143)\n",
            "('14858 04', 19.605)\n",
            "('10161 04', 11.566666666666668)\n",
            "('2332 05', 11.376111111111111)\n",
            "('14857 04', 10.049999999999999)\n",
            "('14858 05', 8.360624999999999)\n",
            "('10161 05', 3.8489473684210522)\n",
            "('14857 05', 3.760588235294118)\n",
            "('13691 04', 2.433333333333333)\n",
            "('13691 05', 1.585)\n",
            "\n",
            "-------------------------------------------\n",
            "Time: 2022-05-03 01:51:11\n",
            "-------------------------------------------\n",
            "('2332 05', 20.45)\n",
            "('14858 05', 13.804285714285713)\n",
            "('10161 05', 9.416666666666666)\n",
            "('14857 05', 7.1000000000000005)\n",
            "('14858 06', 5.935)\n",
            "('2332 06', 5.829444444444444)\n",
            "('10161 06', 3.5094444444444446)\n",
            "('14857 06', 3.3058823529411767)\n",
            "('13691 05', 2.1957142857142857)\n",
            "('13691 06', 1.4794444444444446)\n",
            "\n",
            "-------------------------------------------\n",
            "Time: 2022-05-03 01:51:12\n",
            "-------------------------------------------\n",
            "('14858 06', 17.016666666666666)\n",
            "('14857 06', 10.463333333333333)\n",
            "('2332 06', 10.404285714285715)\n",
            "('10161 06', 7.518571428571429)\n",
            "('14858 07', 5.65)\n",
            "('2332 07', 3.8777777777777778)\n",
            "('14857 07', 3.5955555555555554)\n",
            "('10161 07', 3.1983333333333333)\n",
            "('13691 06', 2.8550000000000004)\n",
            "('13691 07', 1.4331578947368422)\n",
            "\n",
            "-------------------------------------------\n",
            "Time: 2022-05-03 01:51:13\n",
            "-------------------------------------------\n",
            "('19563 07', 51.7)\n",
            "('2332 07', 19.67833333333333)\n",
            "('19563 08', 18.51)\n",
            "('14858 07', 17.150000000000002)\n",
            "('14857 07', 7.452857142857143)\n",
            "('10161 07', 7.328333333333333)\n",
            "('14858 08', 5.023529411764706)\n",
            "('2332 08', 4.8)\n",
            "('14857 08', 3.6205882352941177)\n",
            "('10161 08', 2.783333333333333)\n",
            "('13691 07', 2.5)\n",
            "('13691 08', 1.7594444444444446)\n",
            "\n",
            "-------------------------------------------\n",
            "Time: 2022-05-03 01:51:14\n",
            "-------------------------------------------\n",
            "('19563 08', 17.525)\n",
            "('14858 08', 12.711666666666666)\n",
            "('14858 09', 9.720555555555556)\n",
            "('14857 09', 9.5925)\n",
            "('2332 09', 7.509285714285714)\n",
            "('2332 08', 7.2)\n",
            "('14857 08', 6.764285714285714)\n",
            "('10161 08', 6.75)\n",
            "('19563 09', 3.779166666666667)\n",
            "('13691 08', 3.56)\n",
            "('10161 09', 2.7183333333333333)\n",
            "('13691 09', 1.776111111111111)\n",
            "\n"
          ]
        }
      ]
    },
    {
      "cell_type": "markdown",
      "source": [
        "## Q3"
      ],
      "metadata": {
        "id": "_SD6ssVVwNx0"
      }
    },
    {
      "cell_type": "code",
      "source": [
        "# Q3 UnStrutured, from socket\n",
        "\n",
        "from pyspark import SparkContext\n",
        "from pyspark.sql import SparkSession\n",
        "from pyspark.streaming import StreamingContext\n",
        "from pyspark.sql.types import StringType, StructField, StructType\n",
        "\n",
        "import pandas as pd\n",
        "import matplotlib.pyplot as plt\n",
        "\n",
        "# location | timestamp | P1\n",
        "\n",
        "spark = SparkSession \\\n",
        "    .builder \\\n",
        "    .appName('Kafka Spark UnStructured Streaming Example') \\\n",
        "    .config('spark.jars.packages', 'org.apache.spark:spark-sql-kafka-0-10_2.12:3.2.1') \\\n",
        "    .getOrCreate()\n",
        "\n",
        "loc_cod = '13691'\n",
        "\n",
        "# plot data\n",
        "def convert_to_df(rdd):\n",
        "\n",
        "  if rdd.isEmpty() is True: # rdd vazios\n",
        "    pass\n",
        "  else:\n",
        "    try:\n",
        "      df = spark.createDataFrame(rdd)\n",
        "      df_pandas = df.toPandas()\n",
        "      df_pandas.columns = ['location', 'timestamp', 'mean_pollution']\n",
        "      df_pandas['pollution MA'] = df_pandas.mean_pollution.rolling(window=5).mean()\n",
        "\n",
        "      #labels\n",
        "      plt.figure(figsize=(14, 8))\n",
        "      plt.xlabel(\"Hours\")\n",
        "      plt.ylabel(\"Mean Pollution\")\n",
        "      plt.title(\"Pollution in location per Day. Location: \"+loc_cod)\n",
        "      plt.xticks(rotation=90)\n",
        "      plt.bar(df_pandas['timestamp'],df_pandas['mean_pollution'])\n",
        "      plt.plot(df_pandas['timestamp'],df_pandas['pollution MA'], color='red', linewidth=4)\n",
        "      plt.show()\n",
        "    \n",
        "    except Exception as err:\n",
        "      print(err) \n",
        "\n",
        "# main code\n",
        "try:\n",
        "  # dataset socket\n",
        "  ssc = StreamingContext(spark.sparkContext, 1) # batch 1s\n",
        "  lines = ssc.socketTextStream('localhost', 7777) \n",
        "  line_day = lines.window(24 ,24) # 24s (one day)\n",
        " \n",
        "  # location day P1, location in loc_cod\n",
        "  results_d=line_day.filter(lambda x : len(x)>0)\\\n",
        "  .map(lambda x:(x.split(' ')[2],x.split(' ')[-1][11:13],float(x.split(' ')[-3])))\\\n",
        "  .filter(lambda x : x[0] == loc_cod)\\\n",
        "  .map(lambda x:( (x[0],x[1]) , (x[2],1) ))\\\n",
        "  .reduceByKey(lambda a,b : (a[0] + b[0], a[1] + b[1]))\\\n",
        "  .map(lambda x : (x[0][0],x[0][1],x[1][0]/x[1][1]))\n",
        "  \n",
        "  results_d.pprint(10)\n",
        "  results_d.foreachRDD(convert_to_df)\n",
        "  ssc.start()\n",
        "  ssc.awaitTermination(24*5)\n",
        "\n",
        "except Exception as err:\n",
        "  print(err)\n",
        "\n",
        "ssc.stop()\n",
        "spark.stop()"
      ],
      "metadata": {
        "id": "sVhT1wVRwLCU",
        "colab": {
          "base_uri": "https://localhost:8080/",
          "height": 1000
        },
        "outputId": "a1d1e7d2-f698-4891-d745-0327df3ebd07"
      },
      "execution_count": 25,
      "outputs": [
        {
          "output_type": "stream",
          "name": "stdout",
          "text": [
            "-------------------------------------------\n",
            "Time: 2022-05-03 17:06:29\n",
            "-------------------------------------------\n",
            "('13691', '00', 28.8244)\n",
            "('13691', '01', 23.94083333333333)\n",
            "('13691', '02', 21.760833333333338)\n",
            "('13691', '04', 9.9125)\n",
            "('13691', '08', 12.425652173913045)\n",
            "('13691', '11', 16.0364)\n",
            "('13691', '13', 12.613750000000001)\n",
            "('13691', '15', 13.486799999999999)\n",
            "('13691', '18', 52.8112)\n",
            "('13691', '23', 37.27666666666667)\n",
            "...\n",
            "\n"
          ]
        },
        {
          "output_type": "display_data",
          "data": {
            "text/plain": [
              "<Figure size 1008x576 with 1 Axes>"
            ],
            "image/png": "[encoded data removed]"
          },
          "metadata": {
            "needs_background": "light"
          }
        },
        {
          "output_type": "stream",
          "name": "stdout",
          "text": [
            "-------------------------------------------\n",
            "Time: 2022-05-03 17:06:53\n",
            "-------------------------------------------\n",
            "('13691', '23', 23.040399999999998)\n",
            "('13691', '00', 28.779999999999998)\n",
            "('13691', '01', 23.424)\n",
            "('13691', '02', 16.585833333333333)\n",
            "('13691', '04', 13.474166666666664)\n",
            "('13691', '08', 12.4168)\n",
            "('13691', '11', 15.001666666666665)\n",
            "('13691', '13', 21.597499999999997)\n",
            "('13691', '15', 24.205)\n",
            "('13691', '18', 31.6584)\n",
            "...\n",
            "\n"
          ]
        },
        {
          "output_type": "display_data",
          "data": {
            "text/plain": [
              "<Figure size 1008x576 with 1 Axes>"
            ],
            "image/png": "[encoded data removed]"
          },
          "metadata": {
            "needs_background": "light"
          }
        },
        {
          "output_type": "stream",
          "name": "stdout",
          "text": [
            "-------------------------------------------\n",
            "Time: 2022-05-03 17:07:17\n",
            "-------------------------------------------\n",
            "('13691', '23', 17.01739130434783)\n",
            "('13691', '00', 15.393333333333333)\n",
            "('13691', '01', 13.618)\n",
            "('13691', '02', 10.488695652173913)\n",
            "('13691', '04', 11.044799999999999)\n",
            "('13691', '08', 15.0096)\n",
            "('13691', '11', 13.176956521739132)\n",
            "('13691', '13', 10.3775)\n",
            "('13691', '15', 10.5704)\n",
            "('13691', '18', 16.329545454545453)\n",
            "...\n",
            "\n"
          ]
        },
        {
          "output_type": "display_data",
          "data": {
            "text/plain": [
              "<Figure size 1008x576 with 1 Axes>"
            ],
            "image/png": "[encoded data removed]"
          },
          "metadata": {
            "needs_background": "light"
          }
        },
        {
          "output_type": "stream",
          "name": "stdout",
          "text": [
            "-------------------------------------------\n",
            "Time: 2022-05-03 17:07:41\n",
            "-------------------------------------------\n",
            "('13691', '23', 22.18095238095238)\n",
            "('13691', '00', 15.784347826086956)\n",
            "('13691', '01', 13.712399999999997)\n",
            "('13691', '02', 15.897916666666665)\n",
            "('13691', '04', 13.3452)\n",
            "('13691', '08', 8.557916666666667)\n",
            "('13691', '11', 8.914399999999999)\n",
            "('13691', '13', 7.683333333333334)\n",
            "('13691', '15', 10.918800000000001)\n",
            "('13691', '18', 22.91086956521739)\n",
            "...\n",
            "\n"
          ]
        },
        {
          "output_type": "display_data",
          "data": {
            "text/plain": [
              "<Figure size 1008x576 with 1 Axes>"
            ],
            "image/png": "[encoded data removed]"
          },
          "metadata": {
            "needs_background": "light"
          }
        }
      ]
    },
    {
      "cell_type": "markdown",
      "source": [
        "## Q4\n",
        "\n",
        "The data covers a period of extensive population confinement due to Covid 19. Can you find a signal in the data showing air quality improvement coinciding with the confinement period?"
      ],
      "metadata": {
        "id": "pZp4-kvd2QWp"
      }
    },
    {
      "cell_type": "code",
      "source": [
        "# Q4 UnStrutured, from socket\n",
        "\n",
        "from pyspark import SparkContext\n",
        "from pyspark.sql import SparkSession\n",
        "from pyspark.streaming import StreamingContext\n",
        "from pyspark.sql.types import StringType, StructField, StructType\n",
        "\n",
        "import pandas as pd\n",
        "import matplotlib.pyplot as plt\n",
        "\n",
        "# location | timestamp | P1\n",
        "\n",
        "spark = SparkSession \\\n",
        "    .builder \\\n",
        "    .appName('Kafka Spark UnStructured Streaming Example') \\\n",
        "    .config('spark.jars.packages', 'org.apache.spark:spark-sql-kafka-0-10_2.12:3.2.1') \\\n",
        "    .getOrCreate()\n",
        "\n",
        "loc_cod = '13691'\n",
        "\n",
        "# plot data\n",
        "def convert_to_df(rdd):\n",
        "    if rdd.isEmpty() is True:\n",
        "      pass\n",
        "    else:\n",
        "      try:\n",
        "        df = spark.createDataFrame(rdd)\n",
        "        df_pandas = df.toPandas()\n",
        "        df_pandas.columns = ['location', 'timestamp', 'pollution']\n",
        "        \n",
        "        #labels\n",
        "        plt.figure(figsize=(12, 8))\n",
        "        plt.xlabel(\"Hours\")\n",
        "        plt.ylabel(\"Pollution\")\n",
        "        plt.title(\"Pollution in location per Day\"+loc_cod)\n",
        "        plt.xticks(rotation=90)\n",
        "        plt.bar(df_pandas['timestamp'],df_pandas['pollution'])\n",
        "        plt.show()\n",
        "\n",
        "      except Exception as err:\n",
        "        print(err) \n",
        "\n",
        "# main code\n",
        "try:\n",
        "  # dataset socket\n",
        "  ssc = StreamingContext(spark.sparkContext, 1) # batch 1s\n",
        "  lines = ssc.socketTextStream('localhost', 7777) \n",
        "  line_day = lines.window(30*24 ,30*24) # 24s (one day)\n",
        " \n",
        "  # location day P1, location in loc_cod\n",
        "  results_d=line_day.filter(lambda x : len(x)>0)\\\n",
        "  .map(lambda x:(x.split(' ')[2],x.split(' ')[-1][11:13],float(x.split(' ')[-3])))\\\n",
        "  .filter(lambda x : x[0] == loc_cod)\\\n",
        "  .map(lambda x:( (x[0],x[1]) , (x[2],1) ))\\\n",
        "  .reduceByKey(lambda a,b : (a[0] + b[0], a[1] + b[1]))\\\n",
        "  .map(lambda x : (x[0][0],x[0][1],x[1][0]/x[1][1]))\n",
        "  \n",
        "  results_d.pprint(10)\n",
        "  results_d.foreachRDD(convert_to_df)\n",
        "  ssc.start()\n",
        "  ssc.awaitTermination()\n",
        "\n",
        "except Exception as err:\n",
        "  print(err)\n",
        "\n",
        "ssc.stop()\n",
        "spark.stop()\n",
        "\n",
        "except Exception as err:\n",
        "  print(err)\n",
        "\n",
        "ssc.stop()\n",
        "spark.stop()"
      ],
      "metadata": {
        "id": "bx1djpD_2TAV",
        "colab": {
          "base_uri": "https://localhost:8080/"
        },
        "outputId": "6536ad6d-c5c2-4a94-9a5b-8e66c27333e8"
      },
      "execution_count": 73,
      "outputs": [
        {
          "output_type": "stream",
          "name": "stdout",
          "text": [
            "-------------------------------------------\n",
            "Time: 2022-05-03 13:59:12\n",
            "-------------------------------------------\n",
            "('13691 2020-01-01', 1.0476215277777776)\n",
            "('14858 2020-01-01', 1.1392377495462795)\n",
            "('14857 2020-01-01', 1.089799635701275)\n",
            "('19563 2020-01-01', 1.1211851851851853)\n",
            "('10161 2020-01-01', 1.0623170731707317)\n",
            "('2332 2020-01-01', 1.6857094594594595)\n",
            "\n",
            "Length mismatch: Expected axis has 2 elements, new values have 3 elements\n"
          ]
        }
      ]
    }
  ]
}