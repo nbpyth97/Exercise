{
  "nbformat": 4,
  "nbformat_minor": 0,
  "metadata": {
    "colab": {
      "name": "ps2022-lab2",
      "provenance": [],
      "collapsed_sections": [],
      "include_colab_link": true
    },
    "kernelspec": {
      "name": "python3",
      "display_name": "Python 3"
    },
    "language_info": {
      "name": "python"
    }
  },
  "cells": [
    {
      "cell_type": "markdown",
      "metadata": {
        "id": "view-in-github",
        "colab_type": "text"
      },
      "source": [
        "<a href=\"https://colab.research.google.com/github/nbpyth97/Exercise/blob/master/lab2/ps2022_lab2.ipynb\" target=\"_parent\"><img src=\"https://colab.research.google.com/assets/colab-badge.svg\" alt=\"Open In Colab\"/></a>"
      ]
    },
    {
      "cell_type": "markdown",
      "metadata": {
        "id": "KgFZlT_g8O1Y"
      },
      "source": [
        "# Processamento de Streams 2022\n",
        "## Lab 2 - (Unstructured) Spark Streaming\n",
        "---\n",
        "### Colab Setup\n",
        "\n"
      ]
    },
    {
      "cell_type": "code",
      "metadata": {
        "id": "1eIWfDqQ3Cqi",
        "outputId": "97fd27e6-68b5-45c2-ca97-11154fdf1cd9",
        "colab": {
          "base_uri": "https://localhost:8080/"
        }
      },
      "source": [
        "#@title Mount Google Drive\n",
        "from google.colab import drive\n",
        "drive.mount('/content/drive')"
      ],
      "execution_count": 21,
      "outputs": [
        {
          "output_type": "stream",
          "name": "stdout",
          "text": [
            "Drive already mounted at /content/drive; to attempt to forcibly remount, call drive.mount(\"/content/drive\", force_remount=True).\n"
          ]
        }
      ]
    },
    {
      "cell_type": "code",
      "source": [
        "#@title Install PySpark\n",
        "!pip install pyspark findspark --quiet\n",
        "import findspark\n",
        "findspark.init()\n",
        "findspark.find()"
      ],
      "metadata": {
        "id": "L2O_3I3x1dbx",
        "outputId": "d6110df0-68b8-4a00-bc26-54648f808914",
        "colab": {
          "base_uri": "https://localhost:8080/",
          "height": 35
        }
      },
      "execution_count": 22,
      "outputs": [
        {
          "output_type": "execute_result",
          "data": {
            "text/plain": [
              "'/usr/local/lib/python3.7/dist-packages/pyspark'"
            ],
            "application/vnd.google.colaboratory.intrinsic+json": {
              "type": "string"
            }
          },
          "metadata": {},
          "execution_count": 22
        }
      ]
    },
    {
      "cell_type": "markdown",
      "source": [
        "---\n",
        "### Weblog Sender\n",
        "The stream server is a small python TCP server, listening\n",
        "on port 7777 (localhost). \n",
        "\n",
        "The stream will consist of a set of text lines, obtained from the output log of a webserver.\n",
        "\n"
      ],
      "metadata": {
        "id": "51ECJ--i0D2G"
      }
    },
    {
      "cell_type": "code",
      "source": [
        "!wget -q -O - https://github.com/smduarte/ps2022/raw/main/colab/logsender.tgz | tar xfz - 2> /dev/null\n",
        "\n",
        "!nohup python logsender/server.py logsender/web.log 7777 > /dev/null 2> /dev/null &"
      ],
      "metadata": {
        "id": "GElosFxt-D4j"
      },
      "execution_count": 23,
      "outputs": []
    },
    {
      "cell_type": "markdown",
      "source": [
        "The python code below shows the basics needed to process data from socket source using PySpark.\n",
        "\n",
        "Spark Streaming python documentation is found [here](https://spark.apache.org/docs/latest/api/python/reference/pyspark.streaming.html)"
      ],
      "metadata": {
        "id": "1wihC26vaiT1"
      }
    },
    {
      "cell_type": "code",
      "source": [
        "from pyspark import SparkContext\n",
        "\n",
        "sc = SparkContext(\"local[2]\", \"WebLogExample\")\n",
        "import socket\n",
        "from pyspark.streaming import StreamingContext\n",
        "\n",
        "ssc = StreamingContext(sc, 1)\n",
        "lines = ssc.socketTextStream(\"localhost\", 7777)\n",
        "result = lines.window(10,5).filter(lambda line : len(line) > 0 )\n",
        "resultWords = result.map(lambda line: (line.split(' ')[1],1))\n",
        "count = resultWords.reduceByKey(lambda a,b:a+b).filter(lambda x:x[1]>50)\n",
        "\n",
        "\n",
        "count.pprint()\n",
        "\n",
        "ssc.start()\n",
        "ssc.awaitTermination(10)\n",
        "ssc.stop()"
      ],
      "metadata": {
        "id": "YWL6Aqy0qc_w",
        "outputId": "429ba596-65e7-44ca-a3d4-01b887022271",
        "colab": {
          "base_uri": "https://localhost:8080/"
        }
      },
      "execution_count": 24,
      "outputs": [
        {
          "output_type": "stream",
          "name": "stdout",
          "text": [
            "-------------------------------------------\n",
            "Time: 2022-03-15 11:41:54\n",
            "-------------------------------------------\n",
            "('185.28.193.95', 93)\n",
            "('120.52.73.98', 80)\n",
            "('120.52.73.97', 100)\n",
            "\n",
            "-------------------------------------------\n",
            "Time: 2022-03-15 11:41:59\n",
            "-------------------------------------------\n",
            "('185.28.193.95', 93)\n",
            "('192.241.151.220', 128)\n",
            "('97.77.104.22', 138)\n",
            "('120.52.73.98', 207)\n",
            "('178.22.148.122', 189)\n",
            "('120.52.73.97', 287)\n",
            "\n"
          ]
        }
      ]
    },
    {
      "cell_type": "markdown",
      "source": [
        "---\n",
        "# Exercises\n",
        "\n",
        "## Exercise 1\n",
        "\n",
        "In a denial-of-service event it is important to identify the IP sources that might be attacking the system, by issuing a large number of requests.\n",
        "\n",
        "Write a program to find the IP sources that have done more than 50 requests in the last 10 seconds -- dump this information every 5 seconds. \n"
      ],
      "metadata": {
        "id": "THPCe5kkaEr-"
      }
    },
    {
      "cell_type": "code",
      "source": [
        "from pyspark import SparkContext\n",
        "\n",
        "sc = SparkContext(\"local[2]\", \"WebLogExample\")\n",
        "import socket\n",
        "from pyspark.streaming import StreamingContext\n",
        "\n",
        "try:\n",
        "  ssc = StreamingContext(sc, 1)\n",
        "  lines = ssc.socketTextStream(\"localhost\", 7777)\n",
        "  result = lines.window(30,5).filter(lambda line : len(line) > 0 )\n",
        "  resultWords = result.map(lambda line: (line.split(' ')[1],1))\n",
        "  count = resultWords.reduceByKey(lambda a,b:a+b).filter(lambda x:x[1]>50)\n",
        "  \n",
        "  count.pprint()\n",
        "    \n",
        "  ssc.start()\n",
        "  ssc.awaitTermination(10)\n",
        "  ssc.stop()\n",
        "except:\n",
        "  print('Error')\n",
        "  ssc.stop()\n",
        "\n"
      ],
      "metadata": {
        "id": "Dtav45IoQDzy",
        "outputId": "c161365a-a625-4af5-f1bd-40cef81e540f",
        "colab": {
          "base_uri": "https://localhost:8080/"
        }
      },
      "execution_count": 25,
      "outputs": [
        {
          "output_type": "stream",
          "name": "stdout",
          "text": [
            "-------------------------------------------\n",
            "Time: 2022-03-15 11:42:07\n",
            "-------------------------------------------\n",
            "('185.28.193.95', 93)\n",
            "('120.52.73.98', 80)\n",
            "('120.52.73.97', 100)\n",
            "\n",
            "-------------------------------------------\n",
            "Time: 2022-03-15 11:42:12\n",
            "-------------------------------------------\n",
            "('185.28.193.95', 93)\n",
            "('192.241.151.220', 156)\n",
            "('97.77.104.22', 162)\n",
            "('120.52.73.98', 248)\n",
            "('178.22.148.122', 223)\n",
            "('120.52.73.97', 341)\n",
            "\n"
          ]
        }
      ]
    },
    {
      "cell_type": "code",
      "source": [
        "ssc.stop()"
      ],
      "metadata": {
        "id": "PyCta7bo2KTR"
      },
      "execution_count": 26,
      "outputs": []
    },
    {
      "cell_type": "markdown",
      "source": [
        "## Exercise 2\n",
        "\n",
        "#### a)\n",
        "Write a program to dump the number of requests, minimum processing time, maximum processing time for request in the last 10 seconds, **for all** source IPs that performed more than 100 requests -- dump this information every 5 second.  "
      ],
      "metadata": {
        "id": "ZmM2Ey9YQEQw"
      }
    },
    {
      "cell_type": "code",
      "source": [
        "from os import linesep\n",
        "from pyspark import SparkContext\n",
        "\n",
        "sc = SparkContext(\"local[2]\", \"WebLogExample\")\n",
        "import socket\n",
        "from pyspark.streaming import StreamingContext\n",
        "\n",
        "try:\n",
        "  ssc = StreamingContext(sc, 1)\n",
        "  lines = ssc.socketTextStream(\"localhost\", 7777)\n",
        "  result = lines.window(10,5).filter(lambda line : len(line) > 0 )\n",
        "  line = result.map(lambda line:'({0},{1})-{2}'.format(line.split()[1],1,line.split()[-1])).map(lambda x:x.split('-'))\n",
        "\n",
        "  line.pprint()\n",
        "\n",
        "  ssc.start()\n",
        "  ssc.awaitTermination(10)\n",
        "  ssc.stop()\n",
        "except:\n",
        "  print('-----------Error-----------')\n",
        "  ssc.stop()"
      ],
      "metadata": {
        "id": "4003eAI6QL86",
        "outputId": "b52711b8-5eed-4cfe-b2a2-891bc479a706",
        "colab": {
          "base_uri": "https://localhost:8080/"
        }
      },
      "execution_count": 28,
      "outputs": [
        {
          "output_type": "stream",
          "name": "stdout",
          "text": [
            "-------------------------------------------\n",
            "Time: 2022-03-15 11:43:15\n",
            "-------------------------------------------\n",
            "['(37.139.9.11,1)', '0.026']\n",
            "['(178.22.148.122,1)', '0.088']\n",
            "['(178.22.148.122,1)', '0.088']\n",
            "['(37.139.9.11,1)', '0.057']\n",
            "['(37.139.9.11,1)', '0.015']\n",
            "['(185.28.193.95,1)', '0.056']\n",
            "['(185.28.193.95,1)', '0.052']\n",
            "['(185.28.193.95,1)', '0.055']\n",
            "['(185.28.193.95,1)', '0.013']\n",
            "['(37.139.9.11,1)', '0.039']\n",
            "...\n",
            "\n",
            "-------------------------------------------\n",
            "Time: 2022-03-15 11:43:20\n",
            "-------------------------------------------\n",
            "['(37.139.9.11,1)', '0.026']\n",
            "['(178.22.148.122,1)', '0.088']\n",
            "['(178.22.148.122,1)', '0.088']\n",
            "['(37.139.9.11,1)', '0.057']\n",
            "['(37.139.9.11,1)', '0.015']\n",
            "['(185.28.193.95,1)', '0.056']\n",
            "['(185.28.193.95,1)', '0.052']\n",
            "['(185.28.193.95,1)', '0.055']\n",
            "['(185.28.193.95,1)', '0.013']\n",
            "['(37.139.9.11,1)', '0.039']\n",
            "...\n",
            "\n"
          ]
        }
      ]
    },
    {
      "cell_type": "markdown",
      "source": [
        "glow para uma lista"
      ],
      "metadata": {
        "id": "3T3u2W4o2Zcc"
      }
    },
    {
      "cell_type": "markdown",
      "source": [
        ""
      ],
      "metadata": {
        "id": "wmau1ZHz2YYw"
      }
    },
    {
      "cell_type": "markdown",
      "source": [
        "#### b)\n",
        "\n",
        "Write a program to dump the number of requests, minimum processing time, maximum processing time for request in the last 10 seconds, **only if at least one** source IP has performed more than 100 requests -- dump this information every 5 second."
      ],
      "metadata": {
        "id": "prmPPodzDwL6"
      }
    },
    {
      "cell_type": "code",
      "source": [
        ""
      ],
      "metadata": {
        "id": "NLXgZnC_DwoP"
      },
      "execution_count": 27,
      "outputs": []
    },
    {
      "cell_type": "markdown",
      "source": [
        "## Exercise 3\n",
        "Write a program to dump the IP sources that deviate most from the average in terms of the number of requests made in the last 30 seconds - dump this information every 5 seconds."
      ],
      "metadata": {
        "id": "5yy3_7xpQMew"
      }
    },
    {
      "cell_type": "code",
      "source": [
        ""
      ],
      "metadata": {
        "id": "XegUvrgiQRfM"
      },
      "execution_count": 27,
      "outputs": []
    },
    {
      "cell_type": "markdown",
      "source": [
        "## Exercise 4\n",
        "\n",
        "Run additional logsender servers for subsets of the logs (IPv4 and IPv6 logs), using the following commands.\n",
        "\n",
        "```\n",
        "!nohup python logsender/server.py logsender/webipv4.log 7778 > /dev/null 2> /dev/null &\n",
        "!nohup python logsender/server.py logsender/webipv6.log 7779 > /dev/null 2> /dev/null &\n",
        "```\n",
        "\n",
        "Write a program that combines the two streams, dumping the number of requests made in the last 15 seconds - dump this information every 5 seconds."
      ],
      "metadata": {
        "id": "B3Wg5aecQSFM"
      }
    },
    {
      "cell_type": "code",
      "source": [
        ""
      ],
      "metadata": {
        "id": "nqCtmOZwRfUi"
      },
      "execution_count": 27,
      "outputs": []
    },
    {
      "cell_type": "markdown",
      "source": [
        "## Exercise 5\n",
        "\n",
        "Write a program that combines the two streams from the previous exercise and dumps the proportion of IPv4 vs IPv6 requests in the last 20 seconds - dump this information every 5 seconds.\n"
      ],
      "metadata": {
        "id": "ALselcFrRuYA"
      }
    },
    {
      "cell_type": "code",
      "source": [
        ""
      ],
      "metadata": {
        "id": "3ZcmfAVlR63v"
      },
      "execution_count": 27,
      "outputs": []
    }
  ]
}