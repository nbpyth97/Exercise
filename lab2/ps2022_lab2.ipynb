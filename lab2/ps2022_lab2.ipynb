{
  "nbformat": 4,
  "nbformat_minor": 0,
  "metadata": {
    "colab": {
      "name": "ps2022-lab2",
      "provenance": [],
      "collapsed_sections": [],
      "include_colab_link": true
    },
    "kernelspec": {
      "name": "python3",
      "display_name": "Python 3"
    },
    "language_info": {
      "name": "python"
    }
  },
  "cells": [
    {
      "cell_type": "markdown",
      "metadata": {
        "id": "view-in-github",
        "colab_type": "text"
      },
      "source": [
        "<a href=\"https://colab.research.google.com/github/nbpyth97/Exercise/blob/master/lab2/ps2022_lab2.ipynb\" target=\"_parent\"><img src=\"https://colab.research.google.com/assets/colab-badge.svg\" alt=\"Open In Colab\"/></a>"
      ]
    },
    {
      "cell_type": "markdown",
      "metadata": {
        "id": "KgFZlT_g8O1Y"
      },
      "source": [
        "# Processamento de Streams 2022\n",
        "## Lab 2 - (Unstructured) Spark Streaming\n",
        "---\n",
        "### Colab Setup\n",
        "\n"
      ]
    },
    {
      "cell_type": "code",
      "metadata": {
        "id": "1eIWfDqQ3Cqi",
        "outputId": "cc5bf951-bb0e-4aef-91da-0a2448e4dec5",
        "colab": {
          "base_uri": "https://localhost:8080/"
        }
      },
      "source": [
        "#@title Mount Google Drive\n",
        "from google.colab import drive\n",
        "drive.mount('/content/drive')"
      ],
      "execution_count": 1,
      "outputs": [
        {
          "output_type": "stream",
          "name": "stdout",
          "text": [
            "Drive already mounted at /content/drive; to attempt to forcibly remount, call drive.mount(\"/content/drive\", force_remount=True).\n"
          ]
        }
      ]
    },
    {
      "cell_type": "code",
      "source": [
        "#@title Install PySpark\n",
        "!pip install pyspark findspark --quiet\n",
        "import findspark\n",
        "findspark.init()\n",
        "findspark.find()"
      ],
      "metadata": {
        "id": "L2O_3I3x1dbx",
        "outputId": "308aba39-9111-4878-809f-f2db07005f4e",
        "colab": {
          "base_uri": "https://localhost:8080/",
          "height": 35
        }
      },
      "execution_count": 2,
      "outputs": [
        {
          "output_type": "execute_result",
          "data": {
            "text/plain": [
              "'/usr/local/lib/python3.7/dist-packages/pyspark'"
            ],
            "application/vnd.google.colaboratory.intrinsic+json": {
              "type": "string"
            }
          },
          "metadata": {},
          "execution_count": 2
        }
      ]
    },
    {
      "cell_type": "markdown",
      "source": [
        "---\n",
        "### Weblog Sender\n",
        "The stream server is a small python TCP server, listening\n",
        "on port 7777 (localhost). \n",
        "\n",
        "The stream will consist of a set of text lines, obtained from the output log of a webserver.\n",
        "\n"
      ],
      "metadata": {
        "id": "51ECJ--i0D2G"
      }
    },
    {
      "cell_type": "code",
      "source": [
        "!wget -q -O - https://github.com/smduarte/ps2022/raw/main/colab/logsender.tgz | tar xfz - 2> /dev/null\n",
        "\n",
        "!nohup python logsender/server.py logsender/web.log 7777 > /dev/null 2> /dev/null &"
      ],
      "metadata": {
        "id": "GElosFxt-D4j"
      },
      "execution_count": 3,
      "outputs": []
    },
    {
      "cell_type": "markdown",
      "source": [
        "The python code below shows the basics needed to process data from socket source using PySpark.\n",
        "\n",
        "Spark Streaming python documentation is found [here](https://spark.apache.org/docs/latest/api/python/reference/pyspark.streaming.html)"
      ],
      "metadata": {
        "id": "1wihC26vaiT1"
      }
    },
    {
      "cell_type": "code",
      "source": [
        "from pyspark import SparkContext\n",
        "\n",
        "sc = SparkContext(\"local[2]\", \"WebLogExample\")\n",
        "import socket\n",
        "from pyspark.streaming import StreamingContext\n",
        "\n",
        "ssc = StreamingContext(sc, 1)\n",
        "lines = ssc.socketTextStream(\"localhost\", 7777)\n",
        "result = lines.window(10,5).filter(lambda line : len(line) > 0 )\n",
        "resultWords = result.map(lambda line: (line.split(' ')[1],1))\n",
        "count = resultWords.reduceByKey(lambda a,b:a+b).filter(lambda x:x[1]>50)\n",
        "\n",
        "\n",
        "count.pprint()\n",
        "\n",
        "ssc.start()\n",
        "ssc.awaitTermination(10)\n",
        "ssc.stop()"
      ],
      "metadata": {
        "id": "YWL6Aqy0qc_w",
        "outputId": "1e2a1a34-b8bc-416f-8c28-159db42fb452",
        "colab": {
          "base_uri": "https://localhost:8080/"
        }
      },
      "execution_count": 20,
      "outputs": [
        {
          "output_type": "stream",
          "name": "stdout",
          "text": [
            "-------------------------------------------\n",
            "Time: 2022-03-14 19:20:49\n",
            "-------------------------------------------\n",
            "('185.28.193.95', 93)\n",
            "('120.52.73.98', 80)\n",
            "('120.52.73.97', 100)\n",
            "\n",
            "-------------------------------------------\n",
            "Time: 2022-03-14 19:20:54\n",
            "-------------------------------------------\n",
            "('185.28.193.95', 93)\n",
            "('192.241.151.220', 129)\n",
            "('97.77.104.22', 138)\n",
            "('120.52.73.98', 209)\n",
            "('178.22.148.122', 191)\n",
            "('120.52.73.97', 288)\n",
            "\n"
          ]
        }
      ]
    },
    {
      "cell_type": "markdown",
      "source": [
        "---\n",
        "# Exercises\n",
        "\n",
        "## Exercise 1\n",
        "\n",
        "In a denial-of-service event it is important to identify the IP sources that might be attacking the system, by issuing a large number of requests.\n",
        "\n",
        "Write a program to find the IP sources that have done more than 50 requests in the last 10 seconds -- dump this information every 5 seconds. \n"
      ],
      "metadata": {
        "id": "THPCe5kkaEr-"
      }
    },
    {
      "cell_type": "code",
      "source": [
        "from pyspark import SparkContext\n",
        "\n",
        "sc = SparkContext(\"local[2]\", \"WebLogExample\")\n",
        "import socket\n",
        "from pyspark.streaming import StreamingContext\n",
        "\n",
        "try:\n",
        "  ssc = StreamingContext(sc, 1)\n",
        "  lines = ssc.socketTextStream(\"localhost\", 7777)\n",
        "  result = lines.window(30,5).filter(lambda line : len(line) > 0 )\n",
        "  resultWords = result.map(lambda line: (line.split(' ')[1],1))\n",
        "  count = resultWords.reduceByKey(lambda a,b:a+b).filter(lambda x:x[1]>50)\n",
        "  \n",
        "  count.pprint()\n",
        "    \n",
        "  ssc.start()\n",
        "  ssc.awaitTermination(10)\n",
        "  ssc.stop()\n",
        "except:\n",
        "  print('Error')\n",
        "  ssc.stop()\n",
        "\n"
      ],
      "metadata": {
        "id": "Dtav45IoQDzy",
        "outputId": "93a6226d-37ad-41c8-c6ca-a98c5a3b7481",
        "colab": {
          "base_uri": "https://localhost:8080/"
        }
      },
      "execution_count": 13,
      "outputs": [
        {
          "output_type": "stream",
          "name": "stdout",
          "text": [
            "-------------------------------------------\n",
            "Time: 2022-03-14 19:12:46\n",
            "-------------------------------------------\n",
            "('185.28.193.95', 93)\n",
            "('120.52.73.98', 80)\n",
            "('120.52.73.97', 100)\n",
            "\n",
            "-------------------------------------------\n",
            "Time: 2022-03-14 19:12:51\n",
            "-------------------------------------------\n",
            "('185.28.193.95', 93)\n",
            "('192.241.151.220', 128)\n",
            "('97.77.104.22', 138)\n",
            "('120.52.73.98', 208)\n",
            "('178.22.148.122', 190)\n",
            "('120.52.73.97', 288)\n",
            "\n"
          ]
        }
      ]
    },
    {
      "cell_type": "code",
      "source": [
        "ssc.stop()"
      ],
      "metadata": {
        "id": "PyCta7bo2KTR"
      },
      "execution_count": 58,
      "outputs": []
    },
    {
      "cell_type": "markdown",
      "source": [
        "## Exercise 2\n",
        "\n",
        "#### a)\n",
        "Write a program to dump the number of requests, minimum processing time, maximum processing time for request in the last 10 seconds, **for all** source IPs that performed more than 100 requests -- dump this information every 5 second.  "
      ],
      "metadata": {
        "id": "ZmM2Ey9YQEQw"
      }
    },
    {
      "cell_type": "code",
      "source": [
        "from os import linesep\n",
        "from pyspark import SparkContext\n",
        "\n",
        "sc = SparkContext(\"local[2]\", \"WebLogExample\")\n",
        "import socket\n",
        "from pyspark.streaming import StreamingContext\n",
        "\n",
        "try:\n",
        "  ssc = StreamingContext(sc, 1)\n",
        "  lines = ssc.socketTextStream(\"localhost\", 7777)\n",
        "  result = lines.window(10,5).filter(lambda line : len(line) > 0 )\n",
        "  line = result.map(lambda line:((line.split()[1],1),line.split()[-1])).reduceByKey(lambda a,b:a+b)\n",
        "\n",
        "  line.pprint()\n",
        "\n",
        "  ssc.start()\n",
        "  ssc.awaitTermination(10)\n",
        "  ssc.stop()\n",
        "except:\n",
        "  print('-----------Error-----------')\n",
        "  ssc.stop()"
      ],
      "metadata": {
        "id": "4003eAI6QL86",
        "outputId": "4b6163e7-4886-4c36-b7eb-955e74a540e5",
        "colab": {
          "base_uri": "https://localhost:8080/"
        }
      },
      "execution_count": 60,
      "outputs": [
        {
          "output_type": "stream",
          "name": "stdout",
          "text": [
            "-------------------------------------------\n",
            "Time: 2022-03-14 19:54:10\n",
            "-------------------------------------------\n",
            "(('37.139.9.11', 1), '0.0260.0570.0150.0393.05141.512')\n",
            "(('178.22.148.122', 1), '0.0880.0880.1020.0960.0910.5821.8781.8601.8431.9271.8320.1050.1190.1140.1780.1781.7601.8512.2140.0160.0660.3332.1440.1090.1863.1340.2930.1280.1170.20340.85541.7050.1700.203')\n",
            "(('202.47.236.252', 1), '0.2270.2260.2082.2583.0630.1240.2570.21841.8940.1860.2350.275')\n",
            "(('2a02:c207:2008:5497::1', 1), '0.2030.0540.141')\n",
            "(('2a01:488:66:1000:5c33:8503:0:1', 1), '0.0680.2300.07640.8720.0910.1400.1084.2580.089')\n",
            "(('120.52.73.97', 1), '2.9942.9972.9932.9872.9863.5033.1014.3012.9983.1873.1063.4873.5033.9872.9003.9883.9023.5013.9864.3014.0843.9004.0823.9883.9884.1640.1550.2320.1370.2250.3050.2550.2570.2490.1240.3100.1750.2760.2680.2513.6400.1900.1900.2720.2673.96446.84941.95941.84541.84941.76342.29542.28442.25742.46342.6820.2730.2680.2680.2390.2290.1970.1660.2270.2800.2560.5930.2350.2170.2880.1994.3354.3330.3430.3200.261')\n",
            "(('94.177.171.187', 1), '0.104')\n",
            "(('125.31.1.27', 1), '3.861')\n",
            "(('185.28.193.95', 1), '0.0560.0520.0550.0130.0290.0310.0290.0320.1150.1190.1210.1070.1590.1620.1570.1620.1400.1010.0800.1610.1610.1670.2640.0470.2090.0700.0700.1690.1680.1710.1680.1680.0700.1670.0410.1090.0800.4740.1630.2710.6771.1591.6500.1810.1740.1690.1660.4590.4881.6661.4731.5721.8861.8881.9310.3041.9651.8320.1050.1730.1581.8641.8671.9612.6360.1990.1750.2630.1340.0980.0700.2330.1020.1810.0780.3622.1512.0662.0683.0603.0493.2260.3070.2670.3580.1590.2672.9400.2010.1690.16542.5470.166')\n",
            "(('2002:894a:3a93:d:250:56ff:fe00:88c0', 1), '0.186')\n",
            "...\n",
            "\n",
            "-------------------------------------------\n",
            "Time: 2022-03-14 19:54:15\n",
            "-------------------------------------------\n",
            "(('37.139.9.11', 1), '0.0260.0570.0150.0393.05141.51243.5290.1660.20444.976')\n",
            "(('178.22.148.122', 1), '0.0880.0880.1020.0960.0910.5821.8781.8601.8431.9271.8320.1050.1190.1140.1780.1781.7601.8512.2140.0160.0660.3332.1440.1090.1863.1340.2930.1280.1170.20340.85541.7050.1700.20344.96344.9350.2780.0710.2670.2640.3232.9272.9240.1870.1970.1852.9830.5734.15620.21121.38422.79922.79323.28824.13524.12331.24039.51432.81937.79838.32038.9310.4133.9873.2473.2283.6523.6443.62739.73440.20340.71741.19141.17641.18641.16541.61241.64741.76042.16042.27243.7970.06443.62444.19144.2470.06444.52944.49645.49943.50743.5790.02446.6410.16343.6990.26143.9743.1600.48449.7450.15043.5970.21243.88043.86848.37648.35848.33643.80443.79948.80549.40844.64651.37343.7390.07743.7260.2490.1510.04852.41444.18452.36844.66152.81452.93053.2700.1410.31053.22253.20745.09556.3470.20545.1770.24356.6430.23845.12556.6080.20656.5050.06745.03445.09456.5990.17756.4630.12044.97456.42256.42445.02956.34056.42556.96656.97156.9610.2032.8963.1833.1883.1633.2603.2603.35457.30644.86757.3050.13745.43745.42045.26557.2880.1150.2030.13957.21145.21045.1000.1220.21257.0310.92057.0020.9153.75745.51256.89056.96445.3130.1930.1830.1800.1760.0270.21145.659')\n",
            "(('202.47.236.252', 1), '0.2270.2260.2082.2583.0630.1240.2570.21841.8940.1860.2350.2750.5173.65044.74012.6780.3570.2223.64639.3710.1740.40543.76548.36843.8970.1870.1710.2290.30354.1720.15845.0760.48256.71245.12156.50457.3320.21457.25957.11857.0200.29357.5500.148')\n",
            "(('2a02:c207:2008:5497::1', 1), '0.2030.0540.14140.146')\n",
            "(('2a01:488:66:1000:5c33:8503:0:1', 1), '0.0680.2300.07640.8720.0910.1400.1084.2580.0890.1000.3333.6533.7220.1473.07323.28623.28524.82942.16644.52543.8660.02844.9910.24656.9663.29045.16745.174')\n",
            "(('120.52.73.97', 1), '2.9942.9972.9932.9872.9863.5033.1014.3012.9983.1873.1063.4873.5033.9872.9003.9883.9023.5013.9864.3014.0843.9004.0823.9883.9884.1640.1550.2320.1370.2250.3050.2550.2570.2490.1240.3100.1750.2760.2680.2513.6400.1900.1900.2720.2673.96446.84941.95941.84541.84941.76342.29542.28442.25742.46342.6820.2730.2680.2680.2390.2290.1970.1660.2270.2800.2560.5930.2350.2170.2880.1994.3354.3330.3430.3200.2610.5580.5510.4490.4560.2404.1290.2130.2700.2150.2910.18142.57244.04044.35944.74944.74844.84745.12216.27210.3010.3250.2233.5204.9430.3430.2160.4470.3450.1710.2610.3340.5594.5400.1784.4400.3120.2730.2370.4310.1570.3563.1510.22422.91237.01537.99338.9123.3813.37039.36440.26140.24040.30141.28741.29342.29142.25442.36043.8120.1250.1300.12544.7030.15243.62546.5340.2343.3053.2993.2983.8653.8550.2430.4160.4083.7983.5773.66546.26646.83143.82743.88243.70548.3120.3690.2530.32648.25048.2110.36448.28244.00756.28043.9860.3090.3103.3873.1733.1653.1583.14948.4733.0650.22652.41444.6900.31052.9380.26244.7980.2580.3380.3280.31953.12045.13345.11745.11953.38645.00445.1080.3193.31753.2853.27244.9700.2420.1620.24655.64255.7320.18945.32956.17945.3070.19956.5170.15545.1200.1420.31256.45645.13745.1410.2770.27245.12545.1572.8230.3902.6710.2340.31245.00744.92545.09656.71456.71256.68756.66856.81356.6810.2310.23045.16156.62756.59945.1980.24645.07856.52357.0750.2273.2933.0093.4603.45645.25656.9950.2410.52845.44857.34657.4123.76845.42045.3544.14245.3020.18645.28857.38645.3390.16157.20657.1950.4450.26945.20857.11857.1193.7833.77445.2053.9544.05945.67257.06445.54757.03645.4150.23745.3990.44645.48357.19245.9400.28057.1580.14957.14957.1330.3110.2970.18357.5170.15657.5050.32045.765')\n",
            "(('94.177.171.187', 1), '0.1040.0864.4340.391')\n",
            "(('125.31.1.27', 1), '3.8610.4554.0443.94744.7393.6660.2513.3400.30923.37344.09643.6910.45045.1522.6813.35456.75456.5940.2150.308')\n",
            "(('2a02:c207:2008:5757::1', 1), '42.167')\n",
            "(('185.28.193.95', 1), '0.0560.0520.0550.0130.0290.0310.0290.0320.1150.1190.1210.1070.1590.1620.1570.1620.1400.1010.0800.1610.1610.1670.2640.0470.2090.0700.0700.1690.1680.1710.1680.1680.0700.1670.0410.1090.0800.4740.1630.2710.6771.1591.6500.1810.1740.1690.1660.4590.4881.6661.4731.5721.8861.8881.9310.3041.9651.8320.1050.1730.1581.8641.8671.9612.6360.1990.1750.2630.1340.0980.0700.2330.1020.1810.0780.3622.1512.0662.0683.0603.0493.2260.3070.2670.3580.1590.2672.9400.2010.1690.16542.5470.166')\n",
            "...\n",
            "\n"
          ]
        }
      ]
    },
    {
      "cell_type": "markdown",
      "source": [
        "glow para uma lista"
      ],
      "metadata": {
        "id": "3T3u2W4o2Zcc"
      }
    },
    {
      "cell_type": "markdown",
      "source": [
        ""
      ],
      "metadata": {
        "id": "wmau1ZHz2YYw"
      }
    },
    {
      "cell_type": "markdown",
      "source": [
        "#### b)\n",
        "\n",
        "Write a program to dump the number of requests, minimum processing time, maximum processing time for request in the last 10 seconds, **only if at least one** source IP has performed more than 100 requests -- dump this information every 5 second."
      ],
      "metadata": {
        "id": "prmPPodzDwL6"
      }
    },
    {
      "cell_type": "code",
      "source": [
        ""
      ],
      "metadata": {
        "id": "NLXgZnC_DwoP"
      },
      "execution_count": 4,
      "outputs": []
    },
    {
      "cell_type": "markdown",
      "source": [
        "## Exercise 3\n",
        "Write a program to dump the IP sources that deviate most from the average in terms of the number of requests made in the last 30 seconds - dump this information every 5 seconds."
      ],
      "metadata": {
        "id": "5yy3_7xpQMew"
      }
    },
    {
      "cell_type": "code",
      "source": [
        ""
      ],
      "metadata": {
        "id": "XegUvrgiQRfM"
      },
      "execution_count": 4,
      "outputs": []
    },
    {
      "cell_type": "markdown",
      "source": [
        "## Exercise 4\n",
        "\n",
        "Run additional logsender servers for subsets of the logs (IPv4 and IPv6 logs), using the following commands.\n",
        "\n",
        "```\n",
        "!nohup python logsender/server.py logsender/webipv4.log 7778 > /dev/null 2> /dev/null &\n",
        "!nohup python logsender/server.py logsender/webipv6.log 7779 > /dev/null 2> /dev/null &\n",
        "```\n",
        "\n",
        "Write a program that combines the two streams, dumping the number of requests made in the last 15 seconds - dump this information every 5 seconds."
      ],
      "metadata": {
        "id": "B3Wg5aecQSFM"
      }
    },
    {
      "cell_type": "code",
      "source": [
        ""
      ],
      "metadata": {
        "id": "nqCtmOZwRfUi"
      },
      "execution_count": 4,
      "outputs": []
    },
    {
      "cell_type": "markdown",
      "source": [
        "## Exercise 5\n",
        "\n",
        "Write a program that combines the two streams from the previous exercise and dumps the proportion of IPv4 vs IPv6 requests in the last 20 seconds - dump this information every 5 seconds.\n"
      ],
      "metadata": {
        "id": "ALselcFrRuYA"
      }
    },
    {
      "cell_type": "code",
      "source": [
        ""
      ],
      "metadata": {
        "id": "3ZcmfAVlR63v"
      },
      "execution_count": 4,
      "outputs": []
    }
  ]
}