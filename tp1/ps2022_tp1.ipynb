{
  "nbformat": 4,
  "nbformat_minor": 0,
  "metadata": {
    "colab": {
      "name": "ps2022-tp1",
      "provenance": [],
      "collapsed_sections": [],
      "include_colab_link": true
    },
    "kernelspec": {
      "name": "python3",
      "display_name": "Python 3"
    },
    "language_info": {
      "name": "python"
    }
  },
  "cells": [
    {
      "cell_type": "markdown",
      "metadata": {
        "id": "view-in-github",
        "colab_type": "text"
      },
      "source": [
        "<a href=\"https://colab.research.google.com/github/nbpyth97/Exercise/blob/master/tp1/ps2022_tp1.ipynb\" target=\"_parent\"><img src=\"https://colab.research.google.com/assets/colab-badge.svg\" alt=\"Open In Colab\"/></a>"
      ]
    },
    {
      "cell_type": "markdown",
      "metadata": {
        "id": "KgFZlT_g8O1Y"
      },
      "source": [
        "# Processamento de Streams 2022\n",
        "## TP1 - Air Quality Monitoring (airborne particulate matter)\n",
        "-- version April 6 \n",
        " - updated to full dataset.\n",
        "-- version April 8 \n",
        " - added code for spark streaming (unstructured)\n",
        "\n",
        "\n"
      ]
    },
    {
      "cell_type": "markdown",
      "source": [
        "The goal of this project is to analyze data provided by a set of air quality sensors [sds011](https://aqicn.org/sensor/sds011/pt/). The sensors present in the dataset are located in Portugal, namely in the Lisbon metro area. Each sensor provides two values: measuring particles less than 10 µm (P1) and less than 2.5 µm (P2) in μg/m³.\n",
        "\n",
        "The sensor data, spans the first half of 2020, and is streamed of Kafka. \n",
        "\n",
        "Each data sample has the following schema:\n",
        "\n",
        "sensor_id | sensor_type | location | latitude | longitude | timestamp | P1 | P2\n",
        "----------|-------------|----------|----------|-----------|-----------|----|---\n",
        "string  | string | string | float | float| timestamp | float | float\n",
        "\n"
      ],
      "metadata": {
        "id": "IRDJq9dL0GWA"
      }
    },
    {
      "cell_type": "markdown",
      "source": [
        "## Questions\n",
        "\n",
        "\n",
        "1. Find the time of day with the poorest air quality, for each location. Updated daily;\n",
        "2. Find the average air quality, for each location. Updated hourly;\n",
        "3. Can you show any daily and/or weekly patterns to air quality?;\n",
        "4. The data covers a period of extensive population confinement due to Covid 19. Can you find a signal in the data showing air quality improvement coinciding with the confinement period?"
      ],
      "metadata": {
        "id": "HC6tMDOU7Fdb"
      }
    },
    {
      "cell_type": "markdown",
      "source": [
        "## Requeriments\n",
        "\n",
        "1. Solve each question using one of the systems studied in the course.\n",
        "2. For questions not fully specified, provide your own interpretation, given your own analysis of the data."
      ],
      "metadata": {
        "id": "kdTj-7SD-67o"
      }
    },
    {
      "cell_type": "markdown",
      "source": [
        "## Grading Criteria \n",
        "\n",
        "1. Bonus marks will be given for solving questions using more than one system (eg. Spark Unstructured + Spark Structured);\n",
        "2. Bonus marks will be given if some kind of graphical output is provided to present the results;\n",
        "3. Grading will also take into account the general clarity of the programming and of the presentation report (notebook).\n",
        "\n",
        "\n"
      ],
      "metadata": {
        "id": "qN2ogthr_EIH"
      }
    },
    {
      "cell_type": "markdown",
      "source": [
        "### Deadline\n",
        "\n",
        "24th April + 1 day - ***no penalty***\n",
        "\n",
        "For each day late, ***0.5 / day penalty***. Penalty accumulates until\n",
        "the grade of the assignment reaches 8.0."
      ],
      "metadata": {
        "id": "8M6lYfT_BpAO"
      }
    },
    {
      "cell_type": "markdown",
      "source": [
        "---\n",
        "### Colab Setup\n"
      ],
      "metadata": {
        "id": "81dR9BTgBg1s"
      }
    },
    {
      "cell_type": "code",
      "metadata": {
        "id": "1eIWfDqQ3Cqi",
        "colab": {
          "base_uri": "https://localhost:8080/"
        },
        "outputId": "c4d7b864-48cd-45cb-890c-90b37a33fdf1"
      },
      "source": [
        "#@title Mount Google Drive (Optional)\n",
        "from google.colab import drive\n",
        "drive.mount('/content/drive')"
      ],
      "execution_count": 8,
      "outputs": [
        {
          "output_type": "stream",
          "name": "stdout",
          "text": [
            "Drive already mounted at /content/drive; to attempt to forcibly remount, call drive.mount(\"/content/drive\", force_remount=True).\n"
          ]
        }
      ]
    },
    {
      "cell_type": "code",
      "source": [
        "#@title Install PySpark\n",
        "!pip install pyspark findspark --quiet\n",
        "import findspark\n",
        "findspark.init()\n",
        "findspark.find()"
      ],
      "metadata": {
        "id": "L2O_3I3x1dbx",
        "colab": {
          "base_uri": "https://localhost:8080/",
          "height": 35
        },
        "outputId": "c28b1e8a-6d20-4e69-839a-fa0876fdcfe3"
      },
      "execution_count": 7,
      "outputs": [
        {
          "output_type": "execute_result",
          "data": {
            "text/plain": [
              "'/usr/local/lib/python3.7/dist-packages/pyspark'"
            ],
            "application/vnd.google.colaboratory.intrinsic+json": {
              "type": "string"
            }
          },
          "metadata": {},
          "execution_count": 7
        }
      ]
    },
    {
      "cell_type": "code",
      "source": [
        "#@title Install & Launch Kafka\n",
        "%%bash\n",
        "KAFKA_VERSION=3.1.0\n",
        "KAFKA=kafka_2.13-$KAFKA_VERSION\n",
        "wget -q -O /tmp/$KAFKA.tgz https://dlcdn.apache.org/kafka/$KAFKA_VERSION/$KAFKA.tgz\n",
        "tar xfz /tmp/$KAFKA.tgz\n",
        "wget -q -O $KAFKA/config/server1.properties - https://github.com/smduarte/ps2022/raw/main/colab/server1.properties\n",
        "\n",
        "UUID=`$KAFKA/bin/kafka-storage.sh random-uuid`\n",
        "$KAFKA/bin/kafka-storage.sh format -t $UUID -c $KAFKA/config/server1.properties\n",
        "$KAFKA/bin/kafka-server-start.sh -daemon $KAFKA/config/server1.properties\n"
      ],
      "metadata": {
        "id": "Zl0sBUzOe7Af",
        "colab": {
          "base_uri": "https://localhost:8080/"
        },
        "outputId": "c6c30c33-4542-4a85-a029-e3c691609858"
      },
      "execution_count": 3,
      "outputs": [
        {
          "output_type": "stream",
          "name": "stdout",
          "text": [
            "Formatting /tmp/kraft-combined-logs\n"
          ]
        }
      ]
    },
    {
      "cell_type": "markdown",
      "source": [
        "### Air quality sensor data publisher\n",
        "This a small python Kafka client that publishes a continous stream of text lines, obtained from the periodic output of the sensors.\n",
        "\n",
        "* The Kafka server is accessible @localhost:9092 \n",
        "* The events are published to the `air_quality` topic\n",
        "* Events are published 3600x faster than realtime relative to the timestamp\n"
      ],
      "metadata": {
        "id": "51ECJ--i0D2G"
      }
    },
    {
      "cell_type": "code",
      "source": [
        "#@title Start Kafka Publisher\n",
        "%%bash\n",
        "pip install kafka-python dataclasses --quiet\n",
        "wget -q -O - https://github.com/smduarte/ps2022/raw/main/colab/kafka-tp1-logsender.tgz | tar xfz - 2> /dev/null\n",
        "\n",
        "cd kafka-tp1-logsender\n",
        "nohup python publisher.py --filename 2020-01-06_sds011-pt.csv --topic air_quality  --speedup 3600 2> publisher-error.log > publisher-out.log &"
      ],
      "metadata": {
        "id": "GElosFxt-D4j"
      },
      "execution_count": 4,
      "outputs": []
    },
    {
      "cell_type": "markdown",
      "source": [
        "The python code below shows the basics needed to process JSON data from Kafka source using PySpark.\n",
        "\n",
        "Spark Streaming python documentation is found [here](https://spark.apache.org/docs/latest/api/python/reference/pyspark.streaming.html)\n",
        "\n",
        "---\n",
        "#### PySpark Kafka Stream Example\n"
      ],
      "metadata": {
        "id": "1wihC26vaiT1"
      }
    },
    {
      "cell_type": "code",
      "metadata": {
        "id": "QpO0aX2PPWd1"
      },
      "source": [
        "from pyspark.sql import SparkSession\n",
        "from pyspark.sql.functions import *\n",
        "from pyspark.sql.types import *\n",
        "\n",
        "def dumpBatchDF(df, epoch_id):\n",
        "    df.show(20, False)\n",
        "\n",
        "spark = SparkSession \\\n",
        "    .builder \\\n",
        "    .appName('Kafka Spark Structured Streaming Example') \\\n",
        "    .config('spark.jars.packages', 'org.apache.spark:spark-sql-kafka-0-10_2.12:3.2.1') \\\n",
        "    .getOrCreate()\n",
        "\n",
        "lines = spark \\\n",
        "  .readStream \\\n",
        "  .format('kafka') \\\n",
        "  .option('kafka.bootstrap.servers', 'localhost:9092') \\\n",
        "  .option('subscribe', 'air_quality') \\\n",
        "  .option('startingOffsets', 'earliest') \\\n",
        "  .load() \\\n",
        "  .selectExpr('CAST(value AS STRING)')\n",
        "\n",
        "\n",
        "schema = StructType([StructField('timestamp', TimestampType(), True),\n",
        "                     StructField('sensor_id', StringType(), True),\n",
        "                     StructField('sensor_type', StringType(), True),\n",
        "                     StructField('location', StringType(), True),\n",
        "                     StructField('latitude', FloatType(), True),\n",
        "                     StructField('longitude', FloatType(), True),\n",
        "                     StructField('p1', FloatType(), True),\n",
        "                     StructField('p2', FloatType(), True)])\n",
        "\n",
        "lines = lines.select( from_json(col('value'), schema).alias('data')).select('data.*')\n",
        "\n",
        "query = lines \\\n",
        "    .writeStream \\\n",
        "    .outputMode('append') \\\n",
        "    .foreachBatch(dumpBatchDF) \\\n",
        "    .start()\n",
        "\n",
        "query.awaitTermination(600)\n",
        "query.stop()\n",
        "spark.stop()"
      ],
      "execution_count": null,
      "outputs": []
    },
    {
      "cell_type": "markdown",
      "source": [
        "### Spark Streaming (UnStructured) \n",
        "\n",
        "Latest Spark does not support Kafka sources with UnStructured Streaming.\n",
        "\n",
        "The next cell publishes the dataset using a TCP server, running at port 7777. For this mode, there is no need to install or run Kafka, using the cell above.\n",
        "\n",
        "The events are played faster than \"realtime\", at a 3600x speedup, such that 1 hour in terms of dataset timestamps is\n",
        "sent in 1 second realtime, provided the machine is fast enough. As such, Spark Streaming window functions need to be sized accordingly, since a minibatch of 1 second will be\n",
        "worth 1 hour of dataset events."
      ],
      "metadata": {
        "id": "EMAyVFCwTTKk"
      }
    },
    {
      "cell_type": "code",
      "source": [
        "#@title Start Socket-based Publisher\n",
        "%%bash\n",
        "\n",
        "git clone https://github.com/smduarte/ps2022.git 2> /dev/null > /dev/null || git -C ps2022 pull\n",
        "cd ps2022/colab/socket-tp1-logsender/\n",
        "\n",
        "nohup python publisher.py --filename 2020-01-06_sds011-pt.csv --port 7777  --speedup 3600 2> /tmp/publisher-error.log > /tmp/publisher-out.log &"
      ],
      "metadata": {
        "id": "oFrPUKgtNjxO"
      },
      "execution_count": 5,
      "outputs": []
    },
    {
      "cell_type": "code",
      "source": [
        "from pyspark import SparkContext\n",
        "from pyspark.sql import SparkSession\n",
        "from pyspark.streaming import StreamingContext\n",
        "\n",
        "spark = SparkSession \\\n",
        "    .builder \\\n",
        "    .appName('Kafka Spark UnStructured Streaming Example') \\\n",
        "    .config('spark.jars.packages', 'org.apache.spark:spark-sql-kafka-0-10_2.12:3.2.1') \\\n",
        "    .getOrCreate()\n",
        "\n",
        "try:\n",
        "  ssc = StreamingContext(spark.sparkContext, 1)\n",
        "  lines = ssc.socketTextStream('localhost', 7777) \n",
        "\n",
        "  lines.pprint()\n",
        "    \n",
        "  ssc.start()\n",
        "  ssc.awaitTermination(20)  \n",
        "except Exception as err:\n",
        "  print(err)\n",
        "ssc.stop()\n",
        "spark.stop()"
      ],
      "metadata": {
        "id": "RLHQoF9xOLKj",
        "colab": {
          "base_uri": "https://localhost:8080/"
        },
        "outputId": "bf408c1d-72e0-48ff-e9e8-620c96ad380a"
      },
      "execution_count": 6,
      "outputs": [
        {
          "output_type": "stream",
          "name": "stdout",
          "text": [
            "-------------------------------------------\n",
            "Time: 2022-04-11 16:15:33\n",
            "-------------------------------------------\n",
            "\n",
            "-------------------------------------------\n",
            "Time: 2022-04-11 16:15:34\n",
            "-------------------------------------------\n",
            "\n",
            "-------------------------------------------\n",
            "Time: 2022-04-11 16:15:35\n",
            "-------------------------------------------\n",
            "25874 SDS011 13691 37.09194288 -8.68310094 19.83 14.53\n",
            "20000 SDS011 10161 41.188 -8.642 109.27 69.5\n",
            "27393 SDS011 14858 41.2 -8.326 348.83 198.47\n",
            "18144 SDS011 14857 41.2 -8.326 408.73 156.47\n",
            "25874 SDS011 13691 37.09194288 -8.68310094 19.07 13.43\n",
            "20000 SDS011 10161 41.188 -8.642 111.63 68.5\n",
            "18144 SDS011 14857 41.2 -8.326 204.17 93.7\n",
            "27393 SDS011 14858 41.2 -8.326 314.53 177.1\n",
            "25874 SDS011 13691 37.09194288 -8.68310094 15.73 13.2\n",
            "20000 SDS011 10161 41.188 -8.642 98.8 66.03\n",
            "...\n",
            "\n",
            "-------------------------------------------\n",
            "Time: 2022-04-11 16:15:36\n",
            "-------------------------------------------\n",
            "18144 SDS011 14857 41.2 -8.326 188.43 90.93\n",
            "27393 SDS011 14858 41.2 -8.326 277.53 173.33\n",
            "20000 SDS011 10161 41.188 -8.642 107.8 72.53\n",
            "25874 SDS011 13691 37.09194288 -8.68310094 74.9 47.43\n",
            "18144 SDS011 14857 41.2 -8.326 194.1 89.6\n",
            "27393 SDS011 14858 41.2 -8.326 286.1 175.5\n",
            "20000 SDS011 10161 41.188 -8.642 122.27 73.17\n",
            "25874 SDS011 13691 37.09194288 -8.68310094 33.93 28.0\n",
            "20000 SDS011 10161 41.188 -8.642 135.37 79.23\n",
            "18144 SDS011 14857 41.2 -8.326 181.07 87.63\n",
            "...\n",
            "\n",
            "-------------------------------------------\n",
            "Time: 2022-04-11 16:15:37\n",
            "-------------------------------------------\n",
            "20000 SDS011 10161 41.188 -8.642 118.17 68.57\n",
            "4638 SDS011 2332 38.646 -9.154 464.67 301.67\n",
            "18144 SDS011 14857 41.2 -8.326 124.43 53.73\n",
            "27393 SDS011 14858 41.2 -8.326 207.63 113.0\n",
            "25874 SDS011 13691 37.09194288 -8.68310094 25.33 18.8\n",
            "20000 SDS011 10161 41.188 -8.642 111.63 64.77\n",
            "4638 SDS011 2332 38.646 -9.154 452.33 287.07\n",
            "18144 SDS011 14857 41.2 -8.326 130.27 53.6\n",
            "27393 SDS011 14858 41.2 -8.326 227.27 115.87\n",
            "25874 SDS011 13691 37.09194288 -8.68310094 21.63 17.27\n",
            "...\n",
            "\n",
            "-------------------------------------------\n",
            "Time: 2022-04-11 16:15:38\n",
            "-------------------------------------------\n",
            "20000 SDS011 10161 41.188 -8.642 77.0 44.2\n",
            "18144 SDS011 14857 41.2 -8.326 80.3 30.83\n",
            "4638 SDS011 2332 38.646 -9.154 328.47 168.63\n",
            "25874 SDS011 13691 37.09194288 -8.68310094 11.7 8.53\n",
            "27393 SDS011 14858 41.2 -8.326 178.47 76.63\n",
            "20000 SDS011 10161 41.188 -8.642 74.1 44.87\n",
            "18144 SDS011 14857 41.2 -8.326 70.87 30.67\n",
            "25874 SDS011 13691 37.09194288 -8.68310094 11.43 7.8\n",
            "4638 SDS011 2332 38.646 -9.154 307.37 153.5\n",
            "27393 SDS011 14858 41.2 -8.326 195.0 78.03\n",
            "...\n",
            "\n",
            "-------------------------------------------\n",
            "Time: 2022-04-11 16:15:39\n",
            "-------------------------------------------\n",
            "27393 SDS011 14858 41.2 -8.326 153.07 51.43\n",
            "18144 SDS011 14857 41.2 -8.326 66.1 25.83\n",
            "20000 SDS011 10161 41.188 -8.642 77.5 46.37\n",
            "25874 SDS011 13691 37.09194288 -8.68310094 10.8 7.4\n",
            "27393 SDS011 14858 41.2 -8.326 148.23 51.87\n",
            "18144 SDS011 14857 41.2 -8.326 64.1 25.47\n",
            "20000 SDS011 10161 41.188 -8.642 77.57 46.53\n",
            "25874 SDS011 13691 37.09194288 -8.68310094 12.23 7.63\n",
            "20000 SDS011 10161 41.188 -8.642 74.77 46.4\n",
            "27393 SDS011 14858 41.2 -8.326 141.53 54.2\n",
            "...\n",
            "\n",
            "-------------------------------------------\n",
            "Time: 2022-04-11 16:15:40\n",
            "-------------------------------------------\n",
            "4638 SDS011 2332 38.646 -9.154 183.3 91.2\n",
            "18144 SDS011 14857 41.2 -8.326 48.73 20.77\n",
            "20000 SDS011 10161 41.188 -8.642 58.93 35.87\n",
            "27393 SDS011 14858 41.2 -8.326 119.3 43.97\n",
            "25874 SDS011 13691 37.09194288 -8.68310094 10.2 6.67\n",
            "4638 SDS011 2332 38.646 -9.154 181.13 92.7\n",
            "18144 SDS011 14857 41.2 -8.326 33.97 14.5\n",
            "20000 SDS011 10161 41.188 -8.642 60.57 36.87\n",
            "27393 SDS011 14858 41.2 -8.326 138.6 43.53\n",
            "25874 SDS011 13691 37.09194288 -8.68310094 8.63 6.4\n",
            "...\n",
            "\n",
            "-------------------------------------------\n",
            "Time: 2022-04-11 16:15:41\n",
            "-------------------------------------------\n",
            "20000 SDS011 10161 41.188 -8.642 57.33 34.9\n",
            "18144 SDS011 14857 41.2 -8.326 40.72 17.77\n",
            "25874 SDS011 13691 37.09194288 -8.68310094 9.27 6.23\n",
            "4638 SDS011 2332 38.646 -9.154 152.9 74.23\n",
            "27393 SDS011 14858 41.2 -8.326 112.37 44.0\n",
            "20000 SDS011 10161 41.188 -8.642 56.0 34.3\n",
            "18144 SDS011 14857 41.2 -8.326 48.2 18.9\n",
            "25874 SDS011 13691 37.09194288 -8.68310094 10.13 6.3\n",
            "4638 SDS011 2332 38.646 -9.154 137.07 73.8\n",
            "27393 SDS011 14858 41.2 -8.326 129.8 42.9\n",
            "...\n",
            "\n",
            "-------------------------------------------\n",
            "Time: 2022-04-11 16:15:42\n",
            "-------------------------------------------\n",
            "18144 SDS011 14857 41.2 -8.326 41.22 15.05\n",
            "4638 SDS011 2332 38.646 -9.154 126.73 64.13\n",
            "20000 SDS011 10161 41.188 -8.642 48.27 30.47\n",
            "25874 SDS011 13691 37.09194288 -8.68310094 9.4 6.4\n",
            "27393 SDS011 14858 41.2 -8.326 82.93 36.13\n",
            "18144 SDS011 14857 41.2 -8.326 41.77 16.47\n",
            "4638 SDS011 2332 38.646 -9.154 139.97 58.4\n",
            "20000 SDS011 10161 41.188 -8.642 51.97 30.6\n",
            "25874 SDS011 13691 37.09194288 -8.68310094 10.87 6.6\n",
            "27393 SDS011 14858 41.2 -8.326 89.0 36.8\n",
            "...\n",
            "\n",
            "-------------------------------------------\n",
            "Time: 2022-04-11 16:15:43\n",
            "-------------------------------------------\n",
            "25874 SDS011 13691 37.09194288 -8.68310094 9.83 6.23\n",
            "18144 SDS011 14857 41.2 -8.326 56.17 23.38\n",
            "4638 SDS011 2332 38.646 -9.154 79.87 35.67\n",
            "27393 SDS011 14858 41.2 -8.326 81.03 34.03\n",
            "20000 SDS011 10161 41.188 -8.642 35.53 24.07\n",
            "25874 SDS011 13691 37.09194288 -8.68310094 9.6 6.37\n",
            "18144 SDS011 14857 41.2 -8.326 48.28 21.48\n",
            "4638 SDS011 2332 38.646 -9.154 131.77 38.2\n",
            "27393 SDS011 14858 41.2 -8.326 90.33 37.7\n",
            "20000 SDS011 10161 41.188 -8.642 42.63 25.67\n",
            "...\n",
            "\n",
            "-------------------------------------------\n",
            "Time: 2022-04-11 16:15:44\n",
            "-------------------------------------------\n",
            "27393 SDS011 14858 41.2 -8.326 67.83 30.67\n",
            "4638 SDS011 2332 38.646 -9.154 73.43 33.43\n",
            "33204 SDS011 19563 39.5323909 -8.92895043 26.27 20.58\n",
            "20000 SDS011 10161 41.188 -8.642 39.2 23.9\n",
            "25874 SDS011 13691 37.09194288 -8.68310094 10.7 7.5\n",
            "18144 SDS011 14857 41.2 -8.326 47.45 19.58\n",
            "27393 SDS011 14858 41.2 -8.326 72.07 31.17\n",
            "4638 SDS011 2332 38.646 -9.154 189.93 33.93\n",
            "20000 SDS011 10161 41.188 -8.642 35.43 23.17\n",
            "25874 SDS011 13691 37.09194288 -8.68310094 12.53 7.67\n",
            "...\n",
            "\n",
            "-------------------------------------------\n",
            "Time: 2022-04-11 16:15:45\n",
            "-------------------------------------------\n",
            "25874 SDS011 13691 37.09194288 -8.68310094 11.53 7.47\n",
            "18144 SDS011 14857 41.2 -8.326 43.3 18.55\n",
            "27393 SDS011 14858 41.2 -8.326 66.07 29.6\n",
            "20000 SDS011 10161 41.188 -8.642 37.6 20.9\n",
            "33204 SDS011 19563 39.5323909 -8.92895043 37.97 25.65\n",
            "4638 SDS011 2332 38.646 -9.154 46.7 29.1\n",
            "25874 SDS011 13691 37.09194288 -8.68310094 15.93 9.27\n",
            "18144 SDS011 14857 41.2 -8.326 42.67 20.17\n",
            "27393 SDS011 14858 41.2 -8.326 62.03 29.37\n",
            "20000 SDS011 10161 41.188 -8.642 28.07 18.8\n",
            "...\n",
            "\n",
            "-------------------------------------------\n",
            "Time: 2022-04-11 16:15:46\n",
            "-------------------------------------------\n",
            "33204 SDS011 19563 39.5323909 -8.92895043 35.5 27.65\n",
            "25874 SDS011 13691 37.09194288 -8.68310094 19.2 10.07\n",
            "4638 SDS011 2332 38.646 -9.154 65.43 43.3\n",
            "18144 SDS011 14857 41.2 -8.326 46.1 22.23\n",
            "27393 SDS011 14858 41.2 -8.326 65.83 33.73\n",
            "20000 SDS011 10161 41.188 -8.642 26.3 17.4\n",
            "33204 SDS011 19563 39.5323909 -8.92895043 35.67 28.73\n",
            "25874 SDS011 13691 37.09194288 -8.68310094 20.43 10.43\n",
            "4638 SDS011 2332 38.646 -9.154 71.03 45.17\n",
            "18144 SDS011 14857 41.2 -8.326 53.53 23.02\n",
            "...\n",
            "\n",
            "-------------------------------------------\n",
            "Time: 2022-04-11 16:15:47\n",
            "-------------------------------------------\n",
            "33204 SDS011 19563 39.5323909 -8.92895043 21.95 19.65\n",
            "25874 SDS011 13691 37.09194288 -8.68310094 17.3 11.4\n",
            "20000 SDS011 10161 41.188 -8.642 22.9 15.3\n",
            "27393 SDS011 14858 41.2 -8.326 91.6 50.2\n",
            "18144 SDS011 14857 41.2 -8.326 66.62 35.3\n",
            "33204 SDS011 19563 39.5323909 -8.92895043 21.87 19.58\n",
            "25874 SDS011 13691 37.09194288 -8.68310094 17.67 11.9\n",
            "20000 SDS011 10161 41.188 -8.642 29.0 20.0\n",
            "27393 SDS011 14858 41.2 -8.326 95.27 56.83\n",
            "18144 SDS011 14857 41.2 -8.326 77.9 41.7\n",
            "...\n",
            "\n",
            "-------------------------------------------\n",
            "Time: 2022-04-11 16:15:48\n",
            "-------------------------------------------\n",
            "20000 SDS011 10161 41.188 -8.642 27.6 16.87\n",
            "25874 SDS011 13691 37.09194288 -8.68310094 14.83 10.13\n",
            "33204 SDS011 19563 39.5323909 -8.92895043 11.93 10.73\n",
            "18144 SDS011 14857 41.2 -8.326 55.35 35.22\n",
            "27393 SDS011 14858 41.2 -8.326 82.35 52.3\n",
            "20000 SDS011 10161 41.188 -8.642 29.63 17.93\n",
            "25874 SDS011 13691 37.09194288 -8.68310094 14.77 9.43\n",
            "33204 SDS011 19563 39.5323909 -8.92895043 13.25 11.95\n",
            "27393 SDS011 14858 41.2 -8.326 84.8 59.95\n",
            "18144 SDS011 14857 41.2 -8.326 69.95 48.47\n",
            "...\n",
            "\n",
            "-------------------------------------------\n",
            "Time: 2022-04-11 16:15:49\n",
            "-------------------------------------------\n",
            "33204 SDS011 19563 39.5323909 -8.92895043 11.7 10.68\n",
            "20000 SDS011 10161 41.188 -8.642 24.07 18.83\n",
            "27393 SDS011 14858 41.2 -8.326 85.55 56.92\n",
            "18144 SDS011 14857 41.2 -8.326 73.57 43.35\n",
            "25874 SDS011 13691 37.09194288 -8.68310094 12.13 7.77\n",
            "33204 SDS011 19563 39.5323909 -8.92895043 12.23 11.02\n",
            "20000 SDS011 10161 41.188 -8.642 26.93 18.83\n",
            "27393 SDS011 14858 41.2 -8.326 87.43 58.83\n",
            "18144 SDS011 14857 41.2 -8.326 65.1 39.85\n",
            "25874 SDS011 13691 37.09194288 -8.68310094 12.4 7.63\n",
            "...\n",
            "\n",
            "-------------------------------------------\n",
            "Time: 2022-04-11 16:15:50\n",
            "-------------------------------------------\n",
            "33204 SDS011 19563 39.5323909 -8.92895043 13.05 11.95\n",
            "18144 SDS011 14857 41.2 -8.326 42.28 22.85\n",
            "27393 SDS011 14858 41.2 -8.326 57.08 37.28\n",
            "25874 SDS011 13691 37.09194288 -8.68310094 13.43 8.17\n",
            "20000 SDS011 10161 41.188 -8.642 27.43 20.13\n",
            "33204 SDS011 19563 39.5323909 -8.92895043 13.07 11.9\n",
            "18144 SDS011 14857 41.2 -8.326 47.0 25.45\n",
            "27393 SDS011 14858 41.2 -8.326 55.35 37.85\n",
            "25874 SDS011 13691 37.09194288 -8.68310094 14.87 8.73\n",
            "20000 SDS011 10161 41.188 -8.642 31.4 21.0\n",
            "...\n",
            "\n",
            "-------------------------------------------\n",
            "Time: 2022-04-11 16:15:51\n",
            "-------------------------------------------\n",
            "27393 SDS011 14858 41.2 -8.326 67.12 46.03\n",
            "18144 SDS011 14857 41.2 -8.326 50.53 25.3\n",
            "33204 SDS011 19563 39.5323909 -8.92895043 12.7 11.6\n",
            "25874 SDS011 13691 37.09194288 -8.68310094 15.17 9.23\n",
            "20000 SDS011 10161 41.188 -8.642 85.57 51.67\n",
            "33204 SDS011 19563 39.5323909 -8.92895043 11.75 10.65\n",
            "18144 SDS011 14857 41.2 -8.326 52.38 26.0\n",
            "27393 SDS011 14858 41.2 -8.326 62.53 44.0\n",
            "25874 SDS011 13691 37.09194288 -8.68310094 13.77 8.9\n",
            "20000 SDS011 10161 41.188 -8.642 92.63 51.13\n",
            "...\n",
            "\n",
            "-------------------------------------------\n",
            "Time: 2022-04-11 16:15:52\n",
            "-------------------------------------------\n",
            "18144 SDS011 14857 41.2 -8.326 40.95 19.42\n",
            "27393 SDS011 14858 41.2 -8.326 45.33 33.88\n",
            "25874 SDS011 13691 37.09194288 -8.68310094 19.8 12.57\n",
            "20000 SDS011 10161 41.188 -8.642 97.17 53.03\n",
            "4638 SDS011 2332 38.646 -9.154 100.07 90.5\n",
            "18144 SDS011 14857 41.2 -8.326 38.92 20.02\n",
            "27393 SDS011 14858 41.2 -8.326 47.47 33.3\n",
            "25874 SDS011 13691 37.09194288 -8.68310094 17.83 12.3\n",
            "20000 SDS011 10161 41.188 -8.642 83.1 49.57\n",
            "4638 SDS011 2332 38.646 -9.154 95.23 86.3\n",
            "...\n",
            "\n",
            "-------------------------------------------\n",
            "Time: 2022-04-11 16:15:53\n",
            "-------------------------------------------\n",
            "25874 SDS011 13691 37.09194288 -8.68310094 34.07 23.03\n",
            "18144 SDS011 14857 41.2 -8.326 31.12 15.75\n",
            "27393 SDS011 14858 41.2 -8.326 39.7 26.05\n",
            "20000 SDS011 10161 41.188 -8.642 140.77 80.87\n",
            "4638 SDS011 2332 38.646 -9.154 99.23 91.23\n",
            "33204 SDS011 19563 39.5323909 -8.92895043 28.67 21.52\n",
            "25874 SDS011 13691 37.09194288 -8.68310094 33.53 22.83\n",
            "18144 SDS011 14857 41.2 -8.326 34.75 16.23\n",
            "27393 SDS011 14858 41.2 -8.326 39.88 25.73\n",
            "20000 SDS011 10161 41.188 -8.642 131.3 77.2\n",
            "...\n",
            "\n"
          ]
        }
      ]
    },
    {
      "cell_type": "markdown",
      "source": [
        "Find the time of day with the poorest air quality, for each location. Updated daily"
      ],
      "metadata": {
        "id": "MDG9W5wstbuI"
      }
    },
    {
      "cell_type": "code",
      "source": [
        "from pyspark import SparkContext\n",
        "from pyspark.sql import SparkSession\n",
        "from pyspark.streaming import StreamingContext\n",
        "from datetime import datetime\n",
        "\n",
        "pollution = None\n",
        "\n",
        "spark = SparkSession \\\n",
        "    .builder \\\n",
        "    .appName('Kafka Spark UnStructured Streaming Example') \\\n",
        "    .config('spark.jars.packages', 'org.apache.spark:spark-sql-kafka-0-10_2.12:3.2.1') \\\n",
        "    .getOrCreate()\n",
        "\n",
        "try:\n",
        "  ssc = StreamingContext(spark.sparkContext, 1)\n",
        "  lines = ssc.socketTextStream('localhost', 7777) \n",
        "\n",
        "  results = lines.filter(lambda line :len(line)>0)\\\n",
        "  .map(lambda line:line.split(' '))\\\n",
        "  .map(lambda values:((values[2],datetime.fromtimestamp(float(values[-3])),float(values[-2]),float(values[-1]))))\\\n",
        "  #.filter(lambda x: x[-1] if x[-1]>pollution else pollution:=x[-1])\n",
        "\n",
        "  results.pprint()\n",
        "    \n",
        "  ssc.start()\n",
        "  ssc.awaitTermination(5)  \n",
        "except Exception as err:\n",
        "  print(err)\n",
        "ssc.stop()\n",
        "spark.stop()"
      ],
      "metadata": {
        "colab": {
          "base_uri": "https://localhost:8080/"
        },
        "id": "1DgAVR70tc1P",
        "outputId": "2d626e89-bb8b-4d42-cb6d-db8698f2229c"
      },
      "execution_count": 34,
      "outputs": [
        {
          "output_type": "stream",
          "name": "stdout",
          "text": [
            "-------------------------------------------\n",
            "Time: 2022-04-11 18:16:24\n",
            "-------------------------------------------\n",
            "('13691', datetime.datetime(1969, 12, 31, 23, 59, 51, 316899), 19.83, 14.53)\n",
            "('10161', datetime.datetime(1969, 12, 31, 23, 59, 51, 358000), 109.27, 69.5)\n",
            "('14858', datetime.datetime(1969, 12, 31, 23, 59, 51, 674000), 348.83, 198.47)\n",
            "('14857', datetime.datetime(1969, 12, 31, 23, 59, 51, 674000), 408.73, 156.47)\n",
            "('13691', datetime.datetime(1969, 12, 31, 23, 59, 51, 316899), 19.07, 13.43)\n",
            "('10161', datetime.datetime(1969, 12, 31, 23, 59, 51, 358000), 111.63, 68.5)\n",
            "('14857', datetime.datetime(1969, 12, 31, 23, 59, 51, 674000), 204.17, 93.7)\n",
            "('14858', datetime.datetime(1969, 12, 31, 23, 59, 51, 674000), 314.53, 177.1)\n",
            "('13691', datetime.datetime(1969, 12, 31, 23, 59, 51, 316899), 15.73, 13.2)\n",
            "('10161', datetime.datetime(1969, 12, 31, 23, 59, 51, 358000), 98.8, 66.03)\n",
            "...\n",
            "\n",
            "-------------------------------------------\n",
            "Time: 2022-04-11 18:16:25\n",
            "-------------------------------------------\n",
            "('10161', datetime.datetime(1969, 12, 31, 23, 59, 51, 358000), 121.2, 69.3)\n",
            "('14857', datetime.datetime(1969, 12, 31, 23, 59, 51, 674000), 162.0, 73.03)\n",
            "('14858', datetime.datetime(1969, 12, 31, 23, 59, 51, 674000), 232.43, 139.03)\n",
            "('13691', datetime.datetime(1969, 12, 31, 23, 59, 51, 316899), 15.63, 11.7)\n",
            "('10161', datetime.datetime(1969, 12, 31, 23, 59, 51, 358000), 151.87, 93.7)\n",
            "('13691', datetime.datetime(1969, 12, 31, 23, 59, 51, 316899), 14.97, 11.17)\n",
            "('14857', datetime.datetime(1969, 12, 31, 23, 59, 51, 674000), 137.07, 60.93)\n",
            "('14858', datetime.datetime(1969, 12, 31, 23, 59, 51, 674000), 217.93, 122.67)\n",
            "('2332', datetime.datetime(1969, 12, 31, 23, 59, 50, 846000), 540.87, 311.8)\n",
            "('10161', datetime.datetime(1969, 12, 31, 23, 59, 51, 358000), 114.67, 75.27)\n",
            "...\n",
            "\n",
            "-------------------------------------------\n",
            "Time: 2022-04-11 18:16:26\n",
            "-------------------------------------------\n",
            "('14858', datetime.datetime(1969, 12, 31, 23, 59, 51, 674000), 205.23, 104.73)\n",
            "('13691', datetime.datetime(1969, 12, 31, 23, 59, 51, 316899), 11.37, 8.73)\n",
            "('14857', datetime.datetime(1969, 12, 31, 23, 59, 51, 674000), 90.57, 40.17)\n",
            "('10161', datetime.datetime(1969, 12, 31, 23, 59, 51, 358000), 91.47, 56.93)\n",
            "('2332', datetime.datetime(1969, 12, 31, 23, 59, 50, 846000), 367.17, 194.37)\n",
            "('14858', datetime.datetime(1969, 12, 31, 23, 59, 51, 674000), 206.73, 104.73)\n",
            "('13691', datetime.datetime(1969, 12, 31, 23, 59, 51, 316899), 12.17, 8.93)\n",
            "('14857', datetime.datetime(1969, 12, 31, 23, 59, 51, 674000), 111.17, 48.37)\n",
            "('10161', datetime.datetime(1969, 12, 31, 23, 59, 51, 358000), 83.27, 53.13)\n",
            "('2332', datetime.datetime(1969, 12, 31, 23, 59, 50, 846000), 370.57, 192.2)\n",
            "...\n",
            "\n",
            "-------------------------------------------\n",
            "Time: 2022-04-11 18:16:27\n",
            "-------------------------------------------\n",
            "('14857', datetime.datetime(1969, 12, 31, 23, 59, 51, 674000), 70.43, 27.73)\n",
            "('10161', datetime.datetime(1969, 12, 31, 23, 59, 51, 358000), 75.2, 46.27)\n",
            "('13691', datetime.datetime(1969, 12, 31, 23, 59, 51, 316899), 13.37, 9.5)\n",
            "('14858', datetime.datetime(1969, 12, 31, 23, 59, 51, 674000), 132.93, 55.17)\n",
            "('2332', datetime.datetime(1969, 12, 31, 23, 59, 50, 846000), 197.57, 100.8)\n",
            "('10161', datetime.datetime(1969, 12, 31, 23, 59, 51, 358000), 74.87, 45.43)\n",
            "('13691', datetime.datetime(1969, 12, 31, 23, 59, 51, 316899), 11.17, 8.57)\n",
            "('2332', datetime.datetime(1969, 12, 31, 23, 59, 50, 846000), 182.47, 95.93)\n",
            "('14857', datetime.datetime(1969, 12, 31, 23, 59, 51, 674000), 64.67, 25.27)\n",
            "('14858', datetime.datetime(1969, 12, 31, 23, 59, 51, 674000), 142.0, 55.23)\n",
            "...\n",
            "\n",
            "-------------------------------------------\n",
            "Time: 2022-04-11 18:16:28\n",
            "-------------------------------------------\n",
            "('14857', datetime.datetime(1969, 12, 31, 23, 59, 51, 674000), 57.43, 21.57)\n",
            "('13691', datetime.datetime(1969, 12, 31, 23, 59, 51, 316899), 11.43, 6.7)\n",
            "('2332', datetime.datetime(1969, 12, 31, 23, 59, 50, 846000), 245.77, 98.23)\n",
            "('14858', datetime.datetime(1969, 12, 31, 23, 59, 51, 674000), 100.67, 46.33)\n",
            "('10161', datetime.datetime(1969, 12, 31, 23, 59, 51, 358000), 64.93, 40.07)\n",
            "('13691', datetime.datetime(1969, 12, 31, 23, 59, 51, 316899), 10.83, 6.9)\n",
            "('14857', datetime.datetime(1969, 12, 31, 23, 59, 51, 674000), 66.7, 23.2)\n",
            "('2332', datetime.datetime(1969, 12, 31, 23, 59, 50, 846000), 209.77, 92.1)\n",
            "('10161', datetime.datetime(1969, 12, 31, 23, 59, 51, 358000), 74.73, 41.83)\n",
            "('14858', datetime.datetime(1969, 12, 31, 23, 59, 51, 674000), 132.77, 45.7)\n",
            "...\n",
            "\n"
          ]
        }
      ]
    },
    {
      "cell_type": "code",
      "source": [
        "from datetime import datetime\n",
        "  \n",
        "  \n",
        "timestamp = -8.68310094\n",
        "print(type(timestamp))\n",
        "dt_obj = datetime.fromtimestamp(1140825600)\n",
        "  \n",
        "print(\"date_time:\",dt_obj)\n",
        "print(\"type of dt:\",type(dt_obj))"
      ],
      "metadata": {
        "colab": {
          "base_uri": "https://localhost:8080/"
        },
        "id": "qy1qD3PF1Mzh",
        "outputId": "ecb09425-8369-4c5a-b43a-2482c88b7793"
      },
      "execution_count": 37,
      "outputs": [
        {
          "output_type": "stream",
          "name": "stdout",
          "text": [
            "<class 'float'>\n",
            "date_time: 2006-02-25 00:00:00\n",
            "type of dt: <class 'datetime.datetime'>\n"
          ]
        }
      ]
    }
  ]
}